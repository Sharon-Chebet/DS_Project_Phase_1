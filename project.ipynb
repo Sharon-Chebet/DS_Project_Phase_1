{
 "cells": [
  {
   "cell_type": "markdown",
   "metadata": {},
   "source": [
    "## Final Project Submission\n",
    "\n",
    "Please fill out:\n",
    "* Student Name: Sharon Chebet\n",
    "* Student Pace: Part-time \n",
    "* Scheduled Project Review Date/Time: June 2024 \n",
    "* Instructor Name: Samuel Karu \n"
   ]
  },
  {
   "cell_type": "markdown",
   "metadata": {},
   "source": [
    "# Overview"
   ]
  },
  {
   "cell_type": "markdown",
   "metadata": {
    "vscode": {
     "languageId": "latex"
    }
   },
   "source": [
    "##  Business Understanding\n",
    "\n"
   ]
  },
  {
   "cell_type": "markdown",
   "metadata": {},
   "source": [
    "### Objectives"
   ]
  },
  {
   "cell_type": "markdown",
   "metadata": {},
   "source": [
    "\n",
    "Microsoft sees all the big companies creating original video content and they want to get in on the fun. They have decided to create a new movie studio, but they don’t know anything about creating movies. You are charged with exploring what types of films are currently doing the best at the box office. You must then translate those findings into actionable insights that the head of Microsoft's new movie studio can use to help decide what type of films to create."
   ]
  },
  {
   "cell_type": "markdown",
   "metadata": {},
   "source": [
    "## Questions to consider \n",
    "\n"
   ]
  },
  {
   "cell_type": "markdown",
   "metadata": {},
   "source": [
    "\n",
    "* Which studio has the highest total gross ?\n",
    "\n",
    "* Which release date or periods yield the highest returns ?\n",
    "\n",
    "\n",
    "* How does production budget correlate with profit ?\n",
    "\n",
    "\n",
    "* How does foreign gross correlates with domestic gross ?\n",
    "\n",
    "*  Which market contributes more significantly to the overall financial sucCess of movies ?\n"
   ]
  },
  {
   "cell_type": "markdown",
   "metadata": {},
   "source": [
    "## Task 1 : Data Understanding.\n",
    "\n",
    "\n"
   ]
  },
  {
   "cell_type": "markdown",
   "metadata": {},
   "source": [
    "Dataset\n",
    "For this project  We will consider the following datasets:\n",
    "\n",
    "\n",
    "*bom_movie - bom.movie_gross.csv\n",
    "\n",
    "*tmdb_movies - tmdb.movies.csv\n",
    "\n",
    "*rt_movies - rt.reviews.tsv\n",
    "\n",
    "*tn_movies - tn.movie_budgets.csv\n",
    "\n",
    "\n",
    "After  initial Analysis i have noted that tmdb movies and rt_movies have insufficient information  and dropping them wont affect the results. For this reason we will focus on the following datasets in our analysis <b>bom_movies</b>  and <b>tn_movies</b>. \n",
    "\n",
    "\n"
   ]
  },
  {
   "cell_type": "markdown",
   "metadata": {},
   "source": [
    "Dataset Overview\n",
    "\n",
    "The dataset includes the following columns:\n",
    "\n",
    "<b>*movie/title:</b> The title of the movie.\n",
    "\n",
    "<b>*releasedate:</b> The date when the movie was released.\n",
    "\n",
    "<b>*production_budget:</b> The amount of money spent on producing the movie.\n",
    "\n",
    "<b>*domestic_gross:</b> The revenue generated from domestic box office sales.\n",
    "\n",
    "<b>*foreign_gross:</b> The revenue generated from foreign box office sales.\n",
    "\n",
    "<b>*worldwide_gross:</b> The total revenue generated from both domestic and international box office sales.\n"
   ]
  },
  {
   "cell_type": "markdown",
   "metadata": {},
   "source": [
    "## Import relevant libraries"
   ]
  },
  {
   "cell_type": "code",
   "execution_count": 564,
   "metadata": {},
   "outputs": [],
   "source": [
    "import pandas as pd\n",
    "import numpy as np\n",
    "from numbers import Number\n",
    "import seaborn as sns\n",
    "import matplotlib.pyplot as plt\n",
    "import warnings\n",
    "warnings.filterwarnings('ignore')"
   ]
  },
  {
   "cell_type": "markdown",
   "metadata": {},
   "source": [
    "### 1.1) Read  the datasets into a pandas DataFrame"
   ]
  },
  {
   "cell_type": "code",
   "execution_count": 565,
   "metadata": {},
   "outputs": [
    {
     "data": {
      "text/html": [
       "<div>\n",
       "<style scoped>\n",
       "    .dataframe tbody tr th:only-of-type {\n",
       "        vertical-align: middle;\n",
       "    }\n",
       "\n",
       "    .dataframe tbody tr th {\n",
       "        vertical-align: top;\n",
       "    }\n",
       "\n",
       "    .dataframe thead th {\n",
       "        text-align: right;\n",
       "    }\n",
       "</style>\n",
       "<table border=\"1\" class=\"dataframe\">\n",
       "  <thead>\n",
       "    <tr style=\"text-align: right;\">\n",
       "      <th></th>\n",
       "      <th>title</th>\n",
       "      <th>studio</th>\n",
       "      <th>domestic_gross</th>\n",
       "      <th>foreign_gross</th>\n",
       "      <th>year</th>\n",
       "    </tr>\n",
       "  </thead>\n",
       "  <tbody>\n",
       "    <tr>\n",
       "      <th>0</th>\n",
       "      <td>Toy Story 3</td>\n",
       "      <td>BV</td>\n",
       "      <td>415000000.0</td>\n",
       "      <td>652000000</td>\n",
       "      <td>2010</td>\n",
       "    </tr>\n",
       "    <tr>\n",
       "      <th>1</th>\n",
       "      <td>Alice in Wonderland (2010)</td>\n",
       "      <td>BV</td>\n",
       "      <td>334200000.0</td>\n",
       "      <td>691300000</td>\n",
       "      <td>2010</td>\n",
       "    </tr>\n",
       "    <tr>\n",
       "      <th>2</th>\n",
       "      <td>Harry Potter and the Deathly Hallows Part 1</td>\n",
       "      <td>WB</td>\n",
       "      <td>296000000.0</td>\n",
       "      <td>664300000</td>\n",
       "      <td>2010</td>\n",
       "    </tr>\n",
       "    <tr>\n",
       "      <th>3</th>\n",
       "      <td>Inception</td>\n",
       "      <td>WB</td>\n",
       "      <td>292600000.0</td>\n",
       "      <td>535700000</td>\n",
       "      <td>2010</td>\n",
       "    </tr>\n",
       "    <tr>\n",
       "      <th>4</th>\n",
       "      <td>Shrek Forever After</td>\n",
       "      <td>P/DW</td>\n",
       "      <td>238700000.0</td>\n",
       "      <td>513900000</td>\n",
       "      <td>2010</td>\n",
       "    </tr>\n",
       "  </tbody>\n",
       "</table>\n",
       "</div>"
      ],
      "text/plain": [
       "                                         title studio  domestic_gross  \\\n",
       "0                                  Toy Story 3     BV     415000000.0   \n",
       "1                   Alice in Wonderland (2010)     BV     334200000.0   \n",
       "2  Harry Potter and the Deathly Hallows Part 1     WB     296000000.0   \n",
       "3                                    Inception     WB     292600000.0   \n",
       "4                          Shrek Forever After   P/DW     238700000.0   \n",
       "\n",
       "  foreign_gross  year  \n",
       "0     652000000  2010  \n",
       "1     691300000  2010  \n",
       "2     664300000  2010  \n",
       "3     535700000  2010  \n",
       "4     513900000  2010  "
      ]
     },
     "execution_count": 565,
     "metadata": {},
     "output_type": "execute_result"
    }
   ],
   "source": [
    "## Read `bom_movie.csv` into a pandas DataFrame named `df`\n",
    "bom_movie_df= pd.read_csv('Data/bom.movie_gross.csv')\n",
    "bom_movie_df.head()"
   ]
  },
  {
   "cell_type": "code",
   "execution_count": 566,
   "metadata": {},
   "outputs": [
    {
     "data": {
      "text/html": [
       "<div>\n",
       "<style scoped>\n",
       "    .dataframe tbody tr th:only-of-type {\n",
       "        vertical-align: middle;\n",
       "    }\n",
       "\n",
       "    .dataframe tbody tr th {\n",
       "        vertical-align: top;\n",
       "    }\n",
       "\n",
       "    .dataframe thead th {\n",
       "        text-align: right;\n",
       "    }\n",
       "</style>\n",
       "<table border=\"1\" class=\"dataframe\">\n",
       "  <thead>\n",
       "    <tr style=\"text-align: right;\">\n",
       "      <th></th>\n",
       "      <th>Unnamed: 0</th>\n",
       "      <th>genre_ids</th>\n",
       "      <th>id</th>\n",
       "      <th>original_language</th>\n",
       "      <th>original_title</th>\n",
       "      <th>popularity</th>\n",
       "      <th>release_date</th>\n",
       "      <th>title</th>\n",
       "      <th>vote_average</th>\n",
       "      <th>vote_count</th>\n",
       "    </tr>\n",
       "  </thead>\n",
       "  <tbody>\n",
       "    <tr>\n",
       "      <th>0</th>\n",
       "      <td>0</td>\n",
       "      <td>[12, 14, 10751]</td>\n",
       "      <td>12444</td>\n",
       "      <td>en</td>\n",
       "      <td>Harry Potter and the Deathly Hallows: Part 1</td>\n",
       "      <td>33.533</td>\n",
       "      <td>2010-11-19</td>\n",
       "      <td>Harry Potter and the Deathly Hallows: Part 1</td>\n",
       "      <td>7.7</td>\n",
       "      <td>10788</td>\n",
       "    </tr>\n",
       "    <tr>\n",
       "      <th>1</th>\n",
       "      <td>1</td>\n",
       "      <td>[14, 12, 16, 10751]</td>\n",
       "      <td>10191</td>\n",
       "      <td>en</td>\n",
       "      <td>How to Train Your Dragon</td>\n",
       "      <td>28.734</td>\n",
       "      <td>2010-03-26</td>\n",
       "      <td>How to Train Your Dragon</td>\n",
       "      <td>7.7</td>\n",
       "      <td>7610</td>\n",
       "    </tr>\n",
       "    <tr>\n",
       "      <th>2</th>\n",
       "      <td>2</td>\n",
       "      <td>[12, 28, 878]</td>\n",
       "      <td>10138</td>\n",
       "      <td>en</td>\n",
       "      <td>Iron Man 2</td>\n",
       "      <td>28.515</td>\n",
       "      <td>2010-05-07</td>\n",
       "      <td>Iron Man 2</td>\n",
       "      <td>6.8</td>\n",
       "      <td>12368</td>\n",
       "    </tr>\n",
       "    <tr>\n",
       "      <th>3</th>\n",
       "      <td>3</td>\n",
       "      <td>[16, 35, 10751]</td>\n",
       "      <td>862</td>\n",
       "      <td>en</td>\n",
       "      <td>Toy Story</td>\n",
       "      <td>28.005</td>\n",
       "      <td>1995-11-22</td>\n",
       "      <td>Toy Story</td>\n",
       "      <td>7.9</td>\n",
       "      <td>10174</td>\n",
       "    </tr>\n",
       "    <tr>\n",
       "      <th>4</th>\n",
       "      <td>4</td>\n",
       "      <td>[28, 878, 12]</td>\n",
       "      <td>27205</td>\n",
       "      <td>en</td>\n",
       "      <td>Inception</td>\n",
       "      <td>27.920</td>\n",
       "      <td>2010-07-16</td>\n",
       "      <td>Inception</td>\n",
       "      <td>8.3</td>\n",
       "      <td>22186</td>\n",
       "    </tr>\n",
       "  </tbody>\n",
       "</table>\n",
       "</div>"
      ],
      "text/plain": [
       "   Unnamed: 0            genre_ids     id original_language  \\\n",
       "0           0      [12, 14, 10751]  12444                en   \n",
       "1           1  [14, 12, 16, 10751]  10191                en   \n",
       "2           2        [12, 28, 878]  10138                en   \n",
       "3           3      [16, 35, 10751]    862                en   \n",
       "4           4        [28, 878, 12]  27205                en   \n",
       "\n",
       "                                 original_title  popularity release_date  \\\n",
       "0  Harry Potter and the Deathly Hallows: Part 1      33.533   2010-11-19   \n",
       "1                      How to Train Your Dragon      28.734   2010-03-26   \n",
       "2                                    Iron Man 2      28.515   2010-05-07   \n",
       "3                                     Toy Story      28.005   1995-11-22   \n",
       "4                                     Inception      27.920   2010-07-16   \n",
       "\n",
       "                                          title  vote_average  vote_count  \n",
       "0  Harry Potter and the Deathly Hallows: Part 1           7.7       10788  \n",
       "1                      How to Train Your Dragon           7.7        7610  \n",
       "2                                    Iron Man 2           6.8       12368  \n",
       "3                                     Toy Story           7.9       10174  \n",
       "4                                     Inception           8.3       22186  "
      ]
     },
     "execution_count": 566,
     "metadata": {},
     "output_type": "execute_result"
    }
   ],
   "source": [
    "###  Read `tmdb_movies.csv` into a pandas DataFrame named tmdb_movies_df\n",
    "tmdb_movies_df= pd.read_csv('Data/tmdb.movies.csv')\n",
    "tmdb_movies_df.head()"
   ]
  },
  {
   "cell_type": "code",
   "execution_count": 567,
   "metadata": {},
   "outputs": [
    {
     "data": {
      "text/html": [
       "<div>\n",
       "<style scoped>\n",
       "    .dataframe tbody tr th:only-of-type {\n",
       "        vertical-align: middle;\n",
       "    }\n",
       "\n",
       "    .dataframe tbody tr th {\n",
       "        vertical-align: top;\n",
       "    }\n",
       "\n",
       "    .dataframe thead th {\n",
       "        text-align: right;\n",
       "    }\n",
       "</style>\n",
       "<table border=\"1\" class=\"dataframe\">\n",
       "  <thead>\n",
       "    <tr style=\"text-align: right;\">\n",
       "      <th></th>\n",
       "      <th>id</th>\n",
       "      <th>release_date</th>\n",
       "      <th>movie</th>\n",
       "      <th>production_budget</th>\n",
       "      <th>domestic_gross</th>\n",
       "      <th>worldwide_gross</th>\n",
       "    </tr>\n",
       "  </thead>\n",
       "  <tbody>\n",
       "    <tr>\n",
       "      <th>0</th>\n",
       "      <td>1</td>\n",
       "      <td>18-Dec-09</td>\n",
       "      <td>Avatar</td>\n",
       "      <td>$425,000,000</td>\n",
       "      <td>$760,507,625</td>\n",
       "      <td>$2,776,345,279</td>\n",
       "    </tr>\n",
       "    <tr>\n",
       "      <th>1</th>\n",
       "      <td>2</td>\n",
       "      <td>20-May-11</td>\n",
       "      <td>Pirates of the Caribbean: On Stranger Tides</td>\n",
       "      <td>$410,600,000</td>\n",
       "      <td>$241,063,875</td>\n",
       "      <td>$1,045,663,875</td>\n",
       "    </tr>\n",
       "    <tr>\n",
       "      <th>2</th>\n",
       "      <td>3</td>\n",
       "      <td>7-Jun-19</td>\n",
       "      <td>Dark Phoenix</td>\n",
       "      <td>$350,000,000</td>\n",
       "      <td>$42,762,350</td>\n",
       "      <td>$149,762,350</td>\n",
       "    </tr>\n",
       "    <tr>\n",
       "      <th>3</th>\n",
       "      <td>4</td>\n",
       "      <td>1-May-15</td>\n",
       "      <td>Avengers: Age of Ultron</td>\n",
       "      <td>$330,600,000</td>\n",
       "      <td>$459,005,868</td>\n",
       "      <td>$1,403,013,963</td>\n",
       "    </tr>\n",
       "    <tr>\n",
       "      <th>4</th>\n",
       "      <td>5</td>\n",
       "      <td>15-Dec-17</td>\n",
       "      <td>Star Wars Ep. VIII: The Last Jedi</td>\n",
       "      <td>$317,000,000</td>\n",
       "      <td>$620,181,382</td>\n",
       "      <td>$1,316,721,747</td>\n",
       "    </tr>\n",
       "  </tbody>\n",
       "</table>\n",
       "</div>"
      ],
      "text/plain": [
       "   id release_date                                        movie  \\\n",
       "0   1    18-Dec-09                                       Avatar   \n",
       "1   2    20-May-11  Pirates of the Caribbean: On Stranger Tides   \n",
       "2   3     7-Jun-19                                 Dark Phoenix   \n",
       "3   4     1-May-15                      Avengers: Age of Ultron   \n",
       "4   5    15-Dec-17            Star Wars Ep. VIII: The Last Jedi   \n",
       "\n",
       "  production_budget domestic_gross  worldwide_gross  \n",
       "0     $425,000,000   $760,507,625   $2,776,345,279   \n",
       "1     $410,600,000   $241,063,875   $1,045,663,875   \n",
       "2     $350,000,000    $42,762,350     $149,762,350   \n",
       "3     $330,600,000   $459,005,868   $1,403,013,963   \n",
       "4     $317,000,000   $620,181,382   $1,316,721,747   "
      ]
     },
     "execution_count": 567,
     "metadata": {},
     "output_type": "execute_result"
    }
   ],
   "source": [
    "# Read `Data/tn.movie_budgets.csv` into a pandas DataFrame named tn_movies_df\n",
    "tn_movies_df= pd.read_csv('Data/tn.movie_budgets.csv')\n",
    "tn_movies_df.head()"
   ]
  },
  {
   "cell_type": "code",
   "execution_count": 568,
   "metadata": {},
   "outputs": [
    {
     "name": "stdout",
     "output_type": "stream",
     "text": [
      "[['id' 'synopsis' 'rating' ... 'box_office' 'runtime' 'studio']\n",
      " ['1'\n",
      "  '\"This gritty, fast-paced, and innovative police drama earned five Academy Awards, including Best Picture, Best Adapted Screenplay (written by Ernest Tidyman), and Best Actor (Gene Hackman). Jimmy \"\"Popeye\"\" Doyle (Hackman) and his partner, Buddy Russo (Roy Scheider), are New York City police detectives on narcotics detail, trying to track down the source of heroin from Europe into the United States. Suave Alain Charnier (Fernando Rey) is the French drug kingpin who provides a large percentage of New York City\\'s dope, and Pierre Nicoli (Marcel Bozzuffi) is a hired killer and Charnier\\'s right-hand man. Acting on a hunch, Popeye and Buddy start tailing Sal Boca (Tony Lo Bianco) and his wife, Angie (Arlene Faber), who live pretty high for a couple whose corner store brings in about 7,000 dollars a year. It turns out Popeye\\'s suspicions are right -- Sal and Angie are the New York agents for Charnier, who will be smuggling 32 million dollars\\' worth of heroin into the city in a car shipped over from France. The French Connection broke plenty of new ground for screen thrillers; Popeye Doyle was a highly unusual \"\"hero,\"\" an often violent, racist, and mean-spirited cop whose dedication to his job fell just short of dangerous obsession. The film\\'s high point, a high-speed car chase with Popeye tailing an elevated train, was one of the most viscerally exciting screen moments of its day and set the stage for dozens of action sequences to follow. And the film\\'s grimy realism (and downbeat ending) was a big change from the buff-and-shine gloss and good-guys-always-win heroics of most police dramas that preceded it. The French Connection was inspired by a true story, and Eddie Egan and Sonny Grosso, Popeye and Buddy\\'s real life counterparts, both have small roles in the film. A sequel followed four years later.\"'\n",
      "  'R' ... '' '104 minutes' '']\n",
      " ['3'\n",
      "  \"New York City, not-too-distant-future: Eric Packer, a 28 year-old finance golden boy dreaming of living in a civilization ahead of this one, watches a dark shadow cast over the firmament of the Wall Street galaxy, of which he is the uncontested king. As he is chauffeured across midtown Manhattan to get a haircut at his father's old barber, his anxious eyes are glued to the yuan's exchange rate: it is mounting against all expectations, destroying Eric's bet against it. Eric Packer is losing his empire with every tick of the clock. Meanwhile, an eruption of wild activity unfolds in the city's streets. Petrified as the threats of the real world infringe upon his cloud of virtual convictions, his paranoia intensifies during the course of his 24-hour cross-town odyssey. Packer starts to piece together clues that lead him to a most terrifying secret: his imminent assassination. -- (C) Official Site\"\n",
      "  'R' ... '600,000' '108 minutes' 'Entertainment One']\n",
      " ...\n",
      " ['1998'\n",
      "  '\"Based on a novel by Richard Powell, when the lovable (and musical) hillbilly Toby Kwimper (Elvis Presley) and his family move to Florida, they must fight off a group of greedy lowlifes in order to defend the rights to their land. This musical comedy features the songs \"\"Follow That Dream,\"\" \"\"Sound Advice,\"\" and \"\"What a Wonderful Life.\"\"\"'\n",
      "  'G' ... '' '111 minutes' '']\n",
      " ['1999'\n",
      "  \"The Sandlot is a coming-of-age story about a group of young boys growing up in California in 1962. A new, shy boy (Thomas Guiry) moves into the neighborhood, where he is initially rejected by the local boys because he doesn't know how to play baseball. Soon, he learns the sport and joins the group of boys who play ball in a local sandlot, and with his new friends, he has a variety of adventures.\"\n",
      "  'PG' ... '' '101 minutes' '']\n",
      " ['2000'\n",
      "  \"Suspended from the force, Paris cop Hubert is summoned to Tokyo when his former lover Miko dies. Upon arriving, Hubert discovers he is to be the legal guardian for Miko's teen daughter Yumi. As Hubert begins to investigate the circumstances surrounding Miko's mysterious death, he grows closer to Yumi.\"\n",
      "  'R' ... '' '94 minutes' 'Columbia Pictures']]\n"
     ]
    }
   ],
   "source": [
    "# Read `Data/tn.movie_budgets.csv` into a pandas DataFrame named rt_movies_df\n",
    "rt_movies= np.loadtxt('Data/rt.movie_info.tsv', delimiter='\\t', dtype=str)\n",
    "print(rt_movies)"
   ]
  },
  {
   "cell_type": "code",
   "execution_count": 569,
   "metadata": {},
   "outputs": [
    {
     "data": {
      "text/html": [
       "<div>\n",
       "<style scoped>\n",
       "    .dataframe tbody tr th:only-of-type {\n",
       "        vertical-align: middle;\n",
       "    }\n",
       "\n",
       "    .dataframe tbody tr th {\n",
       "        vertical-align: top;\n",
       "    }\n",
       "\n",
       "    .dataframe thead th {\n",
       "        text-align: right;\n",
       "    }\n",
       "</style>\n",
       "<table border=\"1\" class=\"dataframe\">\n",
       "  <thead>\n",
       "    <tr style=\"text-align: right;\">\n",
       "      <th></th>\n",
       "      <th>id</th>\n",
       "      <th>synopsis</th>\n",
       "      <th>rating</th>\n",
       "      <th>genre</th>\n",
       "      <th>director</th>\n",
       "      <th>writer</th>\n",
       "      <th>theater_date</th>\n",
       "      <th>dvd_date</th>\n",
       "      <th>currency</th>\n",
       "      <th>box_office</th>\n",
       "      <th>runtime</th>\n",
       "      <th>studio</th>\n",
       "    </tr>\n",
       "  </thead>\n",
       "  <tbody>\n",
       "    <tr>\n",
       "      <th>0</th>\n",
       "      <td>1</td>\n",
       "      <td>This gritty, fast-paced, and innovative police...</td>\n",
       "      <td>R</td>\n",
       "      <td>Action and Adventure|Classics|Drama</td>\n",
       "      <td>William Friedkin</td>\n",
       "      <td>Ernest Tidyman</td>\n",
       "      <td>Oct 9, 1971</td>\n",
       "      <td>Sep 25, 2001</td>\n",
       "      <td>NaN</td>\n",
       "      <td>NaN</td>\n",
       "      <td>104 minutes</td>\n",
       "      <td>NaN</td>\n",
       "    </tr>\n",
       "    <tr>\n",
       "      <th>1</th>\n",
       "      <td>3</td>\n",
       "      <td>New York City, not-too-distant-future: Eric Pa...</td>\n",
       "      <td>R</td>\n",
       "      <td>Drama|Science Fiction and Fantasy</td>\n",
       "      <td>David Cronenberg</td>\n",
       "      <td>David Cronenberg|Don DeLillo</td>\n",
       "      <td>Aug 17, 2012</td>\n",
       "      <td>Jan 1, 2013</td>\n",
       "      <td>$</td>\n",
       "      <td>600,000</td>\n",
       "      <td>108 minutes</td>\n",
       "      <td>Entertainment One</td>\n",
       "    </tr>\n",
       "    <tr>\n",
       "      <th>2</th>\n",
       "      <td>5</td>\n",
       "      <td>Illeana Douglas delivers a superb performance ...</td>\n",
       "      <td>R</td>\n",
       "      <td>Drama|Musical and Performing Arts</td>\n",
       "      <td>Allison Anders</td>\n",
       "      <td>Allison Anders</td>\n",
       "      <td>Sep 13, 1996</td>\n",
       "      <td>Apr 18, 2000</td>\n",
       "      <td>NaN</td>\n",
       "      <td>NaN</td>\n",
       "      <td>116 minutes</td>\n",
       "      <td>NaN</td>\n",
       "    </tr>\n",
       "    <tr>\n",
       "      <th>3</th>\n",
       "      <td>6</td>\n",
       "      <td>Michael Douglas runs afoul of a treacherous su...</td>\n",
       "      <td>R</td>\n",
       "      <td>Drama|Mystery and Suspense</td>\n",
       "      <td>Barry Levinson</td>\n",
       "      <td>Paul Attanasio|Michael Crichton</td>\n",
       "      <td>Dec 9, 1994</td>\n",
       "      <td>Aug 27, 1997</td>\n",
       "      <td>NaN</td>\n",
       "      <td>NaN</td>\n",
       "      <td>128 minutes</td>\n",
       "      <td>NaN</td>\n",
       "    </tr>\n",
       "    <tr>\n",
       "      <th>4</th>\n",
       "      <td>7</td>\n",
       "      <td>NaN</td>\n",
       "      <td>NR</td>\n",
       "      <td>Drama|Romance</td>\n",
       "      <td>Rodney Bennett</td>\n",
       "      <td>Giles Cooper</td>\n",
       "      <td>NaN</td>\n",
       "      <td>NaN</td>\n",
       "      <td>NaN</td>\n",
       "      <td>NaN</td>\n",
       "      <td>200 minutes</td>\n",
       "      <td>NaN</td>\n",
       "    </tr>\n",
       "  </tbody>\n",
       "</table>\n",
       "</div>"
      ],
      "text/plain": [
       "   id                                           synopsis rating  \\\n",
       "0   1  This gritty, fast-paced, and innovative police...      R   \n",
       "1   3  New York City, not-too-distant-future: Eric Pa...      R   \n",
       "2   5  Illeana Douglas delivers a superb performance ...      R   \n",
       "3   6  Michael Douglas runs afoul of a treacherous su...      R   \n",
       "4   7                                                NaN     NR   \n",
       "\n",
       "                                 genre          director  \\\n",
       "0  Action and Adventure|Classics|Drama  William Friedkin   \n",
       "1    Drama|Science Fiction and Fantasy  David Cronenberg   \n",
       "2    Drama|Musical and Performing Arts    Allison Anders   \n",
       "3           Drama|Mystery and Suspense    Barry Levinson   \n",
       "4                        Drama|Romance    Rodney Bennett   \n",
       "\n",
       "                            writer  theater_date      dvd_date currency  \\\n",
       "0                   Ernest Tidyman   Oct 9, 1971  Sep 25, 2001      NaN   \n",
       "1     David Cronenberg|Don DeLillo  Aug 17, 2012   Jan 1, 2013        $   \n",
       "2                   Allison Anders  Sep 13, 1996  Apr 18, 2000      NaN   \n",
       "3  Paul Attanasio|Michael Crichton   Dec 9, 1994  Aug 27, 1997      NaN   \n",
       "4                     Giles Cooper           NaN           NaN      NaN   \n",
       "\n",
       "  box_office      runtime             studio  \n",
       "0        NaN  104 minutes                NaN  \n",
       "1    600,000  108 minutes  Entertainment One  \n",
       "2        NaN  116 minutes                NaN  \n",
       "3        NaN  128 minutes                NaN  \n",
       "4        NaN  200 minutes                NaN  "
      ]
     },
     "execution_count": 569,
     "metadata": {},
     "output_type": "execute_result"
    }
   ],
   "source": [
    "rt_movies_df = pd.read_csv('Data/rt.movie_info.tsv', sep='\\t')\n",
    "rt_movies_df.head()"
   ]
  },
  {
   "cell_type": "markdown",
   "metadata": {},
   "source": [
    "### Exploratory Data Analysis (EDA)\n",
    "* bom_movie _df"
   ]
  },
  {
   "cell_type": "code",
   "execution_count": 570,
   "metadata": {},
   "outputs": [
    {
     "name": "stdout",
     "output_type": "stream",
     "text": [
      "<class 'pandas.core.frame.DataFrame'>\n",
      "RangeIndex: 3387 entries, 0 to 3386\n",
      "Data columns (total 5 columns):\n",
      " #   Column          Non-Null Count  Dtype  \n",
      "---  ------          --------------  -----  \n",
      " 0   title           3387 non-null   object \n",
      " 1   studio          3382 non-null   object \n",
      " 2   domestic_gross  3359 non-null   float64\n",
      " 3   foreign_gross   2037 non-null   object \n",
      " 4   year            3387 non-null   int64  \n",
      "dtypes: float64(1), int64(1), object(3)\n",
      "memory usage: 132.4+ KB\n"
     ]
    }
   ],
   "source": [
    "# lets get a concise summary of the bom_movies\n",
    "bom_movie_df.info()"
   ]
  },
  {
   "cell_type": "markdown",
   "metadata": {},
   "source": [
    "### Dealing  with null values\n",
    "\n",
    "For domestic gross and foreign gross we will replace the null values with 0 as the null values indicate that the movie was not sold domestically or abroad respectively."
   ]
  },
  {
   "cell_type": "code",
   "execution_count": 571,
   "metadata": {},
   "outputs": [
    {
     "data": {
      "text/plain": [
       "title             0\n",
       "studio            5\n",
       "domestic_gross    0\n",
       "foreign_gross     0\n",
       "year              0\n",
       "dtype: int64"
      ]
     },
     "execution_count": 571,
     "metadata": {},
     "output_type": "execute_result"
    }
   ],
   "source": [
    "# fill the null values\n",
    "bom_movie_df['domestic_gross'].fillna(0,inplace =True)\n",
    "bom_movie_df['foreign_gross'].fillna(0,inplace =True)\n",
    "# check for missing values\n",
    "bom_movie_df.isna().sum()"
   ]
  },
  {
   "cell_type": "markdown",
   "metadata": {},
   "source": [
    "### Add new column  total_gross which is the sum of domestic goss and foreign gross"
   ]
  },
  {
   "cell_type": "code",
   "execution_count": 572,
   "metadata": {},
   "outputs": [
    {
     "data": {
      "text/html": [
       "<div>\n",
       "<style scoped>\n",
       "    .dataframe tbody tr th:only-of-type {\n",
       "        vertical-align: middle;\n",
       "    }\n",
       "\n",
       "    .dataframe tbody tr th {\n",
       "        vertical-align: top;\n",
       "    }\n",
       "\n",
       "    .dataframe thead th {\n",
       "        text-align: right;\n",
       "    }\n",
       "</style>\n",
       "<table border=\"1\" class=\"dataframe\">\n",
       "  <thead>\n",
       "    <tr style=\"text-align: right;\">\n",
       "      <th></th>\n",
       "      <th>title</th>\n",
       "      <th>studio</th>\n",
       "      <th>domestic_gross</th>\n",
       "      <th>foreign_gross</th>\n",
       "      <th>year</th>\n",
       "      <th>total_gross</th>\n",
       "    </tr>\n",
       "  </thead>\n",
       "  <tbody>\n",
       "    <tr>\n",
       "      <th>0</th>\n",
       "      <td>Toy Story 3</td>\n",
       "      <td>BV</td>\n",
       "      <td>415000000.0</td>\n",
       "      <td>652000000.0</td>\n",
       "      <td>2010</td>\n",
       "      <td>1.067000e+09</td>\n",
       "    </tr>\n",
       "    <tr>\n",
       "      <th>1</th>\n",
       "      <td>Alice in Wonderland (2010)</td>\n",
       "      <td>BV</td>\n",
       "      <td>334200000.0</td>\n",
       "      <td>691300000.0</td>\n",
       "      <td>2010</td>\n",
       "      <td>1.025500e+09</td>\n",
       "    </tr>\n",
       "    <tr>\n",
       "      <th>2</th>\n",
       "      <td>Harry Potter and the Deathly Hallows Part 1</td>\n",
       "      <td>WB</td>\n",
       "      <td>296000000.0</td>\n",
       "      <td>664300000.0</td>\n",
       "      <td>2010</td>\n",
       "      <td>9.603000e+08</td>\n",
       "    </tr>\n",
       "    <tr>\n",
       "      <th>3</th>\n",
       "      <td>Inception</td>\n",
       "      <td>WB</td>\n",
       "      <td>292600000.0</td>\n",
       "      <td>535700000.0</td>\n",
       "      <td>2010</td>\n",
       "      <td>8.283000e+08</td>\n",
       "    </tr>\n",
       "    <tr>\n",
       "      <th>4</th>\n",
       "      <td>Shrek Forever After</td>\n",
       "      <td>P/DW</td>\n",
       "      <td>238700000.0</td>\n",
       "      <td>513900000.0</td>\n",
       "      <td>2010</td>\n",
       "      <td>7.526000e+08</td>\n",
       "    </tr>\n",
       "  </tbody>\n",
       "</table>\n",
       "</div>"
      ],
      "text/plain": [
       "                                         title studio  domestic_gross  \\\n",
       "0                                  Toy Story 3     BV     415000000.0   \n",
       "1                   Alice in Wonderland (2010)     BV     334200000.0   \n",
       "2  Harry Potter and the Deathly Hallows Part 1     WB     296000000.0   \n",
       "3                                    Inception     WB     292600000.0   \n",
       "4                          Shrek Forever After   P/DW     238700000.0   \n",
       "\n",
       "   foreign_gross  year   total_gross  \n",
       "0    652000000.0  2010  1.067000e+09  \n",
       "1    691300000.0  2010  1.025500e+09  \n",
       "2    664300000.0  2010  9.603000e+08  \n",
       "3    535700000.0  2010  8.283000e+08  \n",
       "4    513900000.0  2010  7.526000e+08  "
      ]
     },
     "execution_count": 572,
     "metadata": {},
     "output_type": "execute_result"
    }
   ],
   "source": [
    "# Convert 'Domestic Gross' and 'Foreign Gross' to numeric, handling errors\n",
    "bom_movie_df['domestic_gross'] = pd.to_numeric(bom_movie_df['domestic_gross'], errors='coerce')\n",
    "bom_movie_df['foreign_gross'] = pd.to_numeric(bom_movie_df['foreign_gross'], errors='coerce')\n",
    "# Calculate total gross\n",
    "bom_movie_df['total_gross'] = bom_movie_df['domestic_gross'] + bom_movie_df['foreign_gross']\n",
    "bom_movie_df.head()"
   ]
  },
  {
   "cell_type": "code",
   "execution_count": 573,
   "metadata": {},
   "outputs": [
    {
     "data": {
      "text/html": [
       "<div>\n",
       "<style scoped>\n",
       "    .dataframe tbody tr th:only-of-type {\n",
       "        vertical-align: middle;\n",
       "    }\n",
       "\n",
       "    .dataframe tbody tr th {\n",
       "        vertical-align: top;\n",
       "    }\n",
       "\n",
       "    .dataframe thead th {\n",
       "        text-align: right;\n",
       "    }\n",
       "</style>\n",
       "<table border=\"1\" class=\"dataframe\">\n",
       "  <thead>\n",
       "    <tr style=\"text-align: right;\">\n",
       "      <th></th>\n",
       "      <th>domestic_gross</th>\n",
       "      <th>foreign_gross</th>\n",
       "      <th>year</th>\n",
       "      <th>total_gross</th>\n",
       "    </tr>\n",
       "  </thead>\n",
       "  <tbody>\n",
       "    <tr>\n",
       "      <th>count</th>\n",
       "      <td>3.387000e+03</td>\n",
       "      <td>3.382000e+03</td>\n",
       "      <td>3387.000000</td>\n",
       "      <td>3.382000e+03</td>\n",
       "    </tr>\n",
       "    <tr>\n",
       "      <th>mean</th>\n",
       "      <td>2.850821e+07</td>\n",
       "      <td>4.509637e+07</td>\n",
       "      <td>2013.958075</td>\n",
       "      <td>7.280497e+07</td>\n",
       "    </tr>\n",
       "    <tr>\n",
       "      <th>std</th>\n",
       "      <td>6.675575e+07</td>\n",
       "      <td>1.127543e+08</td>\n",
       "      <td>2.478141</td>\n",
       "      <td>1.692869e+08</td>\n",
       "    </tr>\n",
       "    <tr>\n",
       "      <th>min</th>\n",
       "      <td>0.000000e+00</td>\n",
       "      <td>0.000000e+00</td>\n",
       "      <td>2010.000000</td>\n",
       "      <td>1.000000e+02</td>\n",
       "    </tr>\n",
       "    <tr>\n",
       "      <th>25%</th>\n",
       "      <td>1.115000e+05</td>\n",
       "      <td>0.000000e+00</td>\n",
       "      <td>2012.000000</td>\n",
       "      <td>2.725000e+05</td>\n",
       "    </tr>\n",
       "    <tr>\n",
       "      <th>50%</th>\n",
       "      <td>1.300000e+06</td>\n",
       "      <td>1.500000e+06</td>\n",
       "      <td>2014.000000</td>\n",
       "      <td>5.449000e+06</td>\n",
       "    </tr>\n",
       "    <tr>\n",
       "      <th>75%</th>\n",
       "      <td>2.750000e+07</td>\n",
       "      <td>2.920000e+07</td>\n",
       "      <td>2016.000000</td>\n",
       "      <td>6.097500e+07</td>\n",
       "    </tr>\n",
       "    <tr>\n",
       "      <th>max</th>\n",
       "      <td>9.367000e+08</td>\n",
       "      <td>9.605000e+08</td>\n",
       "      <td>2018.000000</td>\n",
       "      <td>1.518900e+09</td>\n",
       "    </tr>\n",
       "  </tbody>\n",
       "</table>\n",
       "</div>"
      ],
      "text/plain": [
       "       domestic_gross  foreign_gross         year   total_gross\n",
       "count    3.387000e+03   3.382000e+03  3387.000000  3.382000e+03\n",
       "mean     2.850821e+07   4.509637e+07  2013.958075  7.280497e+07\n",
       "std      6.675575e+07   1.127543e+08     2.478141  1.692869e+08\n",
       "min      0.000000e+00   0.000000e+00  2010.000000  1.000000e+02\n",
       "25%      1.115000e+05   0.000000e+00  2012.000000  2.725000e+05\n",
       "50%      1.300000e+06   1.500000e+06  2014.000000  5.449000e+06\n",
       "75%      2.750000e+07   2.920000e+07  2016.000000  6.097500e+07\n",
       "max      9.367000e+08   9.605000e+08  2018.000000  1.518900e+09"
      ]
     },
     "execution_count": 573,
     "metadata": {},
     "output_type": "execute_result"
    }
   ],
   "source": [
    "bom_movie_df.describe()"
   ]
  },
  {
   "cell_type": "markdown",
   "metadata": {},
   "source": [
    "### Exploratory Data Analysis (EDA)\n",
    "\n",
    "#tn_movies_df\n",
    "\n"
   ]
  },
  {
   "cell_type": "code",
   "execution_count": 574,
   "metadata": {},
   "outputs": [
    {
     "data": {
      "text/html": [
       "<div>\n",
       "<style scoped>\n",
       "    .dataframe tbody tr th:only-of-type {\n",
       "        vertical-align: middle;\n",
       "    }\n",
       "\n",
       "    .dataframe tbody tr th {\n",
       "        vertical-align: top;\n",
       "    }\n",
       "\n",
       "    .dataframe thead th {\n",
       "        text-align: right;\n",
       "    }\n",
       "</style>\n",
       "<table border=\"1\" class=\"dataframe\">\n",
       "  <thead>\n",
       "    <tr style=\"text-align: right;\">\n",
       "      <th></th>\n",
       "      <th>id</th>\n",
       "      <th>release_date</th>\n",
       "      <th>movie</th>\n",
       "      <th>production_budget</th>\n",
       "      <th>domestic_gross</th>\n",
       "      <th>worldwide_gross</th>\n",
       "    </tr>\n",
       "  </thead>\n",
       "  <tbody>\n",
       "    <tr>\n",
       "      <th>0</th>\n",
       "      <td>1</td>\n",
       "      <td>18-Dec-09</td>\n",
       "      <td>Avatar</td>\n",
       "      <td>$425,000,000</td>\n",
       "      <td>$760,507,625</td>\n",
       "      <td>$2,776,345,279</td>\n",
       "    </tr>\n",
       "    <tr>\n",
       "      <th>1</th>\n",
       "      <td>2</td>\n",
       "      <td>20-May-11</td>\n",
       "      <td>Pirates of the Caribbean: On Stranger Tides</td>\n",
       "      <td>$410,600,000</td>\n",
       "      <td>$241,063,875</td>\n",
       "      <td>$1,045,663,875</td>\n",
       "    </tr>\n",
       "    <tr>\n",
       "      <th>2</th>\n",
       "      <td>3</td>\n",
       "      <td>7-Jun-19</td>\n",
       "      <td>Dark Phoenix</td>\n",
       "      <td>$350,000,000</td>\n",
       "      <td>$42,762,350</td>\n",
       "      <td>$149,762,350</td>\n",
       "    </tr>\n",
       "    <tr>\n",
       "      <th>3</th>\n",
       "      <td>4</td>\n",
       "      <td>1-May-15</td>\n",
       "      <td>Avengers: Age of Ultron</td>\n",
       "      <td>$330,600,000</td>\n",
       "      <td>$459,005,868</td>\n",
       "      <td>$1,403,013,963</td>\n",
       "    </tr>\n",
       "    <tr>\n",
       "      <th>4</th>\n",
       "      <td>5</td>\n",
       "      <td>15-Dec-17</td>\n",
       "      <td>Star Wars Ep. VIII: The Last Jedi</td>\n",
       "      <td>$317,000,000</td>\n",
       "      <td>$620,181,382</td>\n",
       "      <td>$1,316,721,747</td>\n",
       "    </tr>\n",
       "  </tbody>\n",
       "</table>\n",
       "</div>"
      ],
      "text/plain": [
       "   id release_date                                        movie  \\\n",
       "0   1    18-Dec-09                                       Avatar   \n",
       "1   2    20-May-11  Pirates of the Caribbean: On Stranger Tides   \n",
       "2   3     7-Jun-19                                 Dark Phoenix   \n",
       "3   4     1-May-15                      Avengers: Age of Ultron   \n",
       "4   5    15-Dec-17            Star Wars Ep. VIII: The Last Jedi   \n",
       "\n",
       "  production_budget domestic_gross  worldwide_gross  \n",
       "0     $425,000,000   $760,507,625   $2,776,345,279   \n",
       "1     $410,600,000   $241,063,875   $1,045,663,875   \n",
       "2     $350,000,000    $42,762,350     $149,762,350   \n",
       "3     $330,600,000   $459,005,868   $1,403,013,963   \n",
       "4     $317,000,000   $620,181,382   $1,316,721,747   "
      ]
     },
     "execution_count": 574,
     "metadata": {},
     "output_type": "execute_result"
    }
   ],
   "source": [
    "#reading the first five rows of the tn_movies\n",
    "tn_movies_df.head()"
   ]
  },
  {
   "cell_type": "code",
   "execution_count": 575,
   "metadata": {},
   "outputs": [
    {
     "name": "stdout",
     "output_type": "stream",
     "text": [
      "<class 'pandas.core.frame.DataFrame'>\n",
      "RangeIndex: 5782 entries, 0 to 5781\n",
      "Data columns (total 6 columns):\n",
      " #   Column             Non-Null Count  Dtype \n",
      "---  ------             --------------  ----- \n",
      " 0   id                 5782 non-null   int64 \n",
      " 1   release_date       5782 non-null   object\n",
      " 2   movie              5782 non-null   object\n",
      " 3   production_budget  5782 non-null   object\n",
      " 4   domestic_gross     5782 non-null   object\n",
      " 5   worldwide_gross    5782 non-null   object\n",
      "dtypes: int64(1), object(5)\n",
      "memory usage: 271.2+ KB\n"
     ]
    }
   ],
   "source": [
    "tn_movies_df.info()"
   ]
  },
  {
   "cell_type": "code",
   "execution_count": 576,
   "metadata": {},
   "outputs": [
    {
     "data": {
      "text/plain": [
       "id                   0\n",
       "release_date         0\n",
       "movie                0\n",
       "production_budget    0\n",
       "domestic_gross       0\n",
       "worldwide_gross      0\n",
       "dtype: int64"
      ]
     },
     "execution_count": 576,
     "metadata": {},
     "output_type": "execute_result"
    }
   ],
   "source": [
    "\n",
    "# check for missing values\n",
    "tn_movies_df.isna().sum()\n",
    "\n",
    "\n"
   ]
  },
  {
   "cell_type": "code",
   "execution_count": 577,
   "metadata": {},
   "outputs": [],
   "source": [
    "# Remove non-numeric characters (e.g., dollar signs) from the production_budget, domestic_gross,and world wide gross  columns\n",
    "tn_movies_df['production_budget'] = tn_movies_df['production_budget'].replace('[\\$,]', '', regex=True)\n",
    "\n",
    "tn_movies_df['domestic_gross'] = tn_movies_df['domestic_gross'].replace('[\\$,]', '', regex=True)\n",
    "\n",
    "tn_movies_df['worldwide_gross'] = tn_movies_df['worldwide_gross'].replace('[\\$,]', '', regex=True)\n",
    "\n"
   ]
  },
  {
   "cell_type": "code",
   "execution_count": 578,
   "metadata": {},
   "outputs": [],
   "source": [
    "# Convert the production_budget, domestic_gross,and world wide gross  columns to integers\n",
    "tn_movies_df['production_budget'] = pd.to_numeric(tn_movies_df['production_budget'], errors='coerce').astype('Int64')\n",
    "tn_movies_df['domestic_gross'] = pd.to_numeric(tn_movies_df['domestic_gross'], errors='coerce').astype('Int64')\n",
    "tn_movies_df['worldwide_gross'] = pd.to_numeric(tn_movies_df['worldwide_gross'], errors='coerce').astype('Int64')"
   ]
  },
  {
   "cell_type": "code",
   "execution_count": 579,
   "metadata": {},
   "outputs": [
    {
     "data": {
      "text/html": [
       "<div>\n",
       "<style scoped>\n",
       "    .dataframe tbody tr th:only-of-type {\n",
       "        vertical-align: middle;\n",
       "    }\n",
       "\n",
       "    .dataframe tbody tr th {\n",
       "        vertical-align: top;\n",
       "    }\n",
       "\n",
       "    .dataframe thead th {\n",
       "        text-align: right;\n",
       "    }\n",
       "</style>\n",
       "<table border=\"1\" class=\"dataframe\">\n",
       "  <thead>\n",
       "    <tr style=\"text-align: right;\">\n",
       "      <th></th>\n",
       "      <th>id</th>\n",
       "      <th>production_budget</th>\n",
       "      <th>domestic_gross</th>\n",
       "      <th>worldwide_gross</th>\n",
       "    </tr>\n",
       "  </thead>\n",
       "  <tbody>\n",
       "    <tr>\n",
       "      <th>count</th>\n",
       "      <td>5782.000000</td>\n",
       "      <td>5.782000e+03</td>\n",
       "      <td>5.782000e+03</td>\n",
       "      <td>5.782000e+03</td>\n",
       "    </tr>\n",
       "    <tr>\n",
       "      <th>mean</th>\n",
       "      <td>50.372363</td>\n",
       "      <td>3.158776e+07</td>\n",
       "      <td>4.187333e+07</td>\n",
       "      <td>9.148746e+07</td>\n",
       "    </tr>\n",
       "    <tr>\n",
       "      <th>std</th>\n",
       "      <td>28.821076</td>\n",
       "      <td>4.181208e+07</td>\n",
       "      <td>6.824060e+07</td>\n",
       "      <td>1.747200e+08</td>\n",
       "    </tr>\n",
       "    <tr>\n",
       "      <th>min</th>\n",
       "      <td>1.000000</td>\n",
       "      <td>1.100000e+03</td>\n",
       "      <td>0.000000e+00</td>\n",
       "      <td>0.000000e+00</td>\n",
       "    </tr>\n",
       "    <tr>\n",
       "      <th>25%</th>\n",
       "      <td>25.000000</td>\n",
       "      <td>5.000000e+06</td>\n",
       "      <td>1.429534e+06</td>\n",
       "      <td>4.125415e+06</td>\n",
       "    </tr>\n",
       "    <tr>\n",
       "      <th>50%</th>\n",
       "      <td>50.000000</td>\n",
       "      <td>1.700000e+07</td>\n",
       "      <td>1.722594e+07</td>\n",
       "      <td>2.798445e+07</td>\n",
       "    </tr>\n",
       "    <tr>\n",
       "      <th>75%</th>\n",
       "      <td>75.000000</td>\n",
       "      <td>4.000000e+07</td>\n",
       "      <td>5.234866e+07</td>\n",
       "      <td>9.764584e+07</td>\n",
       "    </tr>\n",
       "    <tr>\n",
       "      <th>max</th>\n",
       "      <td>100.000000</td>\n",
       "      <td>4.250000e+08</td>\n",
       "      <td>9.366622e+08</td>\n",
       "      <td>2.776345e+09</td>\n",
       "    </tr>\n",
       "  </tbody>\n",
       "</table>\n",
       "</div>"
      ],
      "text/plain": [
       "                id  production_budget  domestic_gross  worldwide_gross\n",
       "count  5782.000000       5.782000e+03    5.782000e+03     5.782000e+03\n",
       "mean     50.372363       3.158776e+07    4.187333e+07     9.148746e+07\n",
       "std      28.821076       4.181208e+07    6.824060e+07     1.747200e+08\n",
       "min       1.000000       1.100000e+03    0.000000e+00     0.000000e+00\n",
       "25%      25.000000       5.000000e+06    1.429534e+06     4.125415e+06\n",
       "50%      50.000000       1.700000e+07    1.722594e+07     2.798445e+07\n",
       "75%      75.000000       4.000000e+07    5.234866e+07     9.764584e+07\n",
       "max     100.000000       4.250000e+08    9.366622e+08     2.776345e+09"
      ]
     },
     "execution_count": 579,
     "metadata": {},
     "output_type": "execute_result"
    }
   ],
   "source": [
    "# summary statistics\n",
    "tn_movies_df.describe()"
   ]
  },
  {
   "cell_type": "markdown",
   "metadata": {},
   "source": [
    "# Merging Data Sets"
   ]
  },
  {
   "cell_type": "code",
   "execution_count": 580,
   "metadata": {},
   "outputs": [],
   "source": [
    "# To merge the data sets we start by making the title and  movie index\n",
    "bom_movie_df_indexed = bom_movie_df.set_index('title')\n",
    "tn_movies_df_indexed = tn_movies_df.set_index('movie')"
   ]
  },
  {
   "cell_type": "code",
   "execution_count": 581,
   "metadata": {},
   "outputs": [
    {
     "data": {
      "text/html": [
       "<div>\n",
       "<style scoped>\n",
       "    .dataframe tbody tr th:only-of-type {\n",
       "        vertical-align: middle;\n",
       "    }\n",
       "\n",
       "    .dataframe tbody tr th {\n",
       "        vertical-align: top;\n",
       "    }\n",
       "\n",
       "    .dataframe thead th {\n",
       "        text-align: right;\n",
       "    }\n",
       "</style>\n",
       "<table border=\"1\" class=\"dataframe\">\n",
       "  <thead>\n",
       "    <tr style=\"text-align: right;\">\n",
       "      <th></th>\n",
       "      <th>title</th>\n",
       "      <th>studio</th>\n",
       "      <th>domestic_gross_x</th>\n",
       "      <th>foreign_gross</th>\n",
       "      <th>year</th>\n",
       "      <th>total_gross</th>\n",
       "      <th>id</th>\n",
       "      <th>release_date</th>\n",
       "      <th>movie</th>\n",
       "      <th>production_budget</th>\n",
       "      <th>domestic_gross_y</th>\n",
       "      <th>worldwide_gross</th>\n",
       "    </tr>\n",
       "  </thead>\n",
       "  <tbody>\n",
       "    <tr>\n",
       "      <th>0</th>\n",
       "      <td>Toy Story 3</td>\n",
       "      <td>BV</td>\n",
       "      <td>415000000.0</td>\n",
       "      <td>652000000.0</td>\n",
       "      <td>2010</td>\n",
       "      <td>1.067000e+09</td>\n",
       "      <td>47.0</td>\n",
       "      <td>18-Jun-10</td>\n",
       "      <td>Toy Story 3</td>\n",
       "      <td>200000000</td>\n",
       "      <td>415004880</td>\n",
       "      <td>1068879522</td>\n",
       "    </tr>\n",
       "    <tr>\n",
       "      <th>1</th>\n",
       "      <td>Alice in Wonderland (2010)</td>\n",
       "      <td>BV</td>\n",
       "      <td>334200000.0</td>\n",
       "      <td>691300000.0</td>\n",
       "      <td>2010</td>\n",
       "      <td>1.025500e+09</td>\n",
       "      <td>NaN</td>\n",
       "      <td>NaN</td>\n",
       "      <td>NaN</td>\n",
       "      <td>&lt;NA&gt;</td>\n",
       "      <td>&lt;NA&gt;</td>\n",
       "      <td>&lt;NA&gt;</td>\n",
       "    </tr>\n",
       "    <tr>\n",
       "      <th>2</th>\n",
       "      <td>Harry Potter and the Deathly Hallows Part 1</td>\n",
       "      <td>WB</td>\n",
       "      <td>296000000.0</td>\n",
       "      <td>664300000.0</td>\n",
       "      <td>2010</td>\n",
       "      <td>9.603000e+08</td>\n",
       "      <td>NaN</td>\n",
       "      <td>NaN</td>\n",
       "      <td>NaN</td>\n",
       "      <td>&lt;NA&gt;</td>\n",
       "      <td>&lt;NA&gt;</td>\n",
       "      <td>&lt;NA&gt;</td>\n",
       "    </tr>\n",
       "    <tr>\n",
       "      <th>3</th>\n",
       "      <td>Inception</td>\n",
       "      <td>WB</td>\n",
       "      <td>292600000.0</td>\n",
       "      <td>535700000.0</td>\n",
       "      <td>2010</td>\n",
       "      <td>8.283000e+08</td>\n",
       "      <td>38.0</td>\n",
       "      <td>16-Jul-10</td>\n",
       "      <td>Inception</td>\n",
       "      <td>160000000</td>\n",
       "      <td>292576195</td>\n",
       "      <td>835524642</td>\n",
       "    </tr>\n",
       "    <tr>\n",
       "      <th>4</th>\n",
       "      <td>Shrek Forever After</td>\n",
       "      <td>P/DW</td>\n",
       "      <td>238700000.0</td>\n",
       "      <td>513900000.0</td>\n",
       "      <td>2010</td>\n",
       "      <td>7.526000e+08</td>\n",
       "      <td>27.0</td>\n",
       "      <td>21-May-10</td>\n",
       "      <td>Shrek Forever After</td>\n",
       "      <td>165000000</td>\n",
       "      <td>238736787</td>\n",
       "      <td>756244673</td>\n",
       "    </tr>\n",
       "  </tbody>\n",
       "</table>\n",
       "</div>"
      ],
      "text/plain": [
       "                                         title studio  domestic_gross_x  \\\n",
       "0                                  Toy Story 3     BV       415000000.0   \n",
       "1                   Alice in Wonderland (2010)     BV       334200000.0   \n",
       "2  Harry Potter and the Deathly Hallows Part 1     WB       296000000.0   \n",
       "3                                    Inception     WB       292600000.0   \n",
       "4                          Shrek Forever After   P/DW       238700000.0   \n",
       "\n",
       "   foreign_gross  year   total_gross    id release_date                movie  \\\n",
       "0    652000000.0  2010  1.067000e+09  47.0    18-Jun-10          Toy Story 3   \n",
       "1    691300000.0  2010  1.025500e+09   NaN          NaN                  NaN   \n",
       "2    664300000.0  2010  9.603000e+08   NaN          NaN                  NaN   \n",
       "3    535700000.0  2010  8.283000e+08  38.0    16-Jul-10            Inception   \n",
       "4    513900000.0  2010  7.526000e+08  27.0    21-May-10  Shrek Forever After   \n",
       "\n",
       "   production_budget  domestic_gross_y  worldwide_gross  \n",
       "0          200000000         415004880       1068879522  \n",
       "1               <NA>              <NA>             <NA>  \n",
       "2               <NA>              <NA>             <NA>  \n",
       "3          160000000         292576195        835524642  \n",
       "4          165000000         238736787        756244673  "
      ]
     },
     "execution_count": 581,
     "metadata": {},
     "output_type": "execute_result"
    }
   ],
   "source": [
    "# merge the two data sets bom_movies & tn _movies\n",
    "merged_df = pd.merge(bom_movie_df, tn_movies_df, left_on='title', right_on='movie', how='left')\n",
    "merged_df.head()"
   ]
  },
  {
   "cell_type": "code",
   "execution_count": 582,
   "metadata": {},
   "outputs": [
    {
     "name": "stdout",
     "output_type": "stream",
     "text": [
      "<class 'pandas.core.frame.DataFrame'>\n",
      "Int64Index: 3396 entries, 0 to 3395\n",
      "Data columns (total 12 columns):\n",
      " #   Column             Non-Null Count  Dtype  \n",
      "---  ------             --------------  -----  \n",
      " 0   title              3396 non-null   object \n",
      " 1   studio             3391 non-null   object \n",
      " 2   domestic_gross_x   3396 non-null   float64\n",
      " 3   foreign_gross      3391 non-null   float64\n",
      " 4   year               3396 non-null   int64  \n",
      " 5   total_gross        3391 non-null   float64\n",
      " 6   id                 1247 non-null   float64\n",
      " 7   release_date       1247 non-null   object \n",
      " 8   movie              1247 non-null   object \n",
      " 9   production_budget  1247 non-null   Int64  \n",
      " 10  domestic_gross_y   1247 non-null   Int64  \n",
      " 11  worldwide_gross    1247 non-null   Int64  \n",
      "dtypes: Int64(3), float64(4), int64(1), object(4)\n",
      "memory usage: 354.9+ KB\n"
     ]
    }
   ],
   "source": [
    "merged_df.info()"
   ]
  },
  {
   "cell_type": "markdown",
   "metadata": {},
   "source": [
    "### Handling missing data"
   ]
  },
  {
   "cell_type": "code",
   "execution_count": 583,
   "metadata": {},
   "outputs": [],
   "source": [
    "# Lets drop the  missing values in crucial columns\n",
    "merged_df = merged_df.dropna(subset=['title', 'studio', 'year'])"
   ]
  },
  {
   "cell_type": "code",
   "execution_count": 584,
   "metadata": {},
   "outputs": [],
   "source": [
    "# For domestic_gross_x and foreign_gross fill null values with Zero as that indicate the movie zas not sold\n",
    "merged_df['domestic_gross_x'].fillna(0, inplace=True)\n",
    "merged_df['foreign_gross'].fillna('0', inplace=True)\n",
    "merged_df['total_gross'].fillna('0', inplace=True)"
   ]
  },
  {
   "cell_type": "code",
   "execution_count": 585,
   "metadata": {},
   "outputs": [
    {
     "name": "stdout",
     "output_type": "stream",
     "text": [
      "<class 'pandas.core.frame.DataFrame'>\n",
      "Int64Index: 3391 entries, 0 to 3395\n",
      "Data columns (total 12 columns):\n",
      " #   Column             Non-Null Count  Dtype  \n",
      "---  ------             --------------  -----  \n",
      " 0   title              3391 non-null   object \n",
      " 1   studio             3391 non-null   object \n",
      " 2   domestic_gross_x   3391 non-null   float64\n",
      " 3   foreign_gross      3391 non-null   object \n",
      " 4   year               3391 non-null   int64  \n",
      " 5   total_gross        3391 non-null   object \n",
      " 6   id                 1246 non-null   float64\n",
      " 7   release_date       1246 non-null   object \n",
      " 8   movie              1246 non-null   object \n",
      " 9   production_budget  1246 non-null   Int64  \n",
      " 10  domestic_gross_y   1246 non-null   Int64  \n",
      " 11  worldwide_gross    1246 non-null   Int64  \n",
      "dtypes: Int64(3), float64(2), int64(1), object(6)\n",
      "memory usage: 354.3+ KB\n"
     ]
    }
   ],
   "source": [
    "merged_df.info()"
   ]
  },
  {
   "cell_type": "code",
   "execution_count": 586,
   "metadata": {},
   "outputs": [],
   "source": [
    "# Handle duplicates\n",
    "merged_df = merged_df.drop_duplicates()"
   ]
  },
  {
   "cell_type": "code",
   "execution_count": 587,
   "metadata": {},
   "outputs": [
    {
     "name": "stdout",
     "output_type": "stream",
     "text": [
      "<class 'pandas.core.frame.DataFrame'>\n",
      "Int64Index: 3391 entries, 0 to 3395\n",
      "Data columns (total 12 columns):\n",
      " #   Column             Non-Null Count  Dtype  \n",
      "---  ------             --------------  -----  \n",
      " 0   title              3391 non-null   object \n",
      " 1   studio             3391 non-null   object \n",
      " 2   domestic_gross_x   3391 non-null   float64\n",
      " 3   foreign_gross      3391 non-null   object \n",
      " 4   year               3391 non-null   int64  \n",
      " 5   total_gross        3391 non-null   object \n",
      " 6   id                 1246 non-null   float64\n",
      " 7   release_date       1246 non-null   object \n",
      " 8   movie              1246 non-null   object \n",
      " 9   production_budget  1246 non-null   Int64  \n",
      " 10  domestic_gross_y   1246 non-null   Int64  \n",
      " 11  worldwide_gross    1246 non-null   Int64  \n",
      "dtypes: Int64(3), float64(2), int64(1), object(6)\n",
      "memory usage: 354.3+ KB\n",
      "None\n",
      "       domestic_gross_x         year           id  production_budget  \\\n",
      "count      3.391000e+03  3391.000000  1246.000000       1.246000e+03   \n",
      "mean       2.861726e+07  2013.957535    50.932584       4.702541e+07   \n",
      "std        6.677843e+07     2.477622    28.233910       5.595362e+07   \n",
      "min        0.000000e+00  2010.000000     1.000000       5.000000e+04   \n",
      "25%        1.125000e+05  2012.000000    27.000000       1.000000e+07   \n",
      "50%        1.300000e+06  2014.000000    51.000000       2.500000e+07   \n",
      "75%        2.780000e+07  2016.000000    74.000000       6.000000e+07   \n",
      "max        9.367000e+08  2018.000000   100.000000       4.106000e+08   \n",
      "\n",
      "       domestic_gross_y  worldwide_gross  \n",
      "count      1.246000e+03     1.246000e+03  \n",
      "mean       6.064723e+07     1.522451e+08  \n",
      "std        8.475192e+07     2.350805e+08  \n",
      "min        0.000000e+00     0.000000e+00  \n",
      "25%        7.497218e+06     1.813713e+07  \n",
      "50%        3.333898e+07     6.537637e+07  \n",
      "75%        7.555288e+07     1.721449e+08  \n",
      "max        7.000596e+08     2.048134e+09  \n",
      "                                         title studio  domestic_gross_x  \\\n",
      "0                                  Toy Story 3     BV       415000000.0   \n",
      "1                   Alice in Wonderland (2010)     BV       334200000.0   \n",
      "2  Harry Potter and the Deathly Hallows Part 1     WB       296000000.0   \n",
      "3                                    Inception     WB       292600000.0   \n",
      "4                          Shrek Forever After   P/DW       238700000.0   \n",
      "\n",
      "  foreign_gross  year total_gross    id release_date                movie  \\\n",
      "0      6.52e+08  2010   1.067e+09  47.0    18-Jun-10          Toy Story 3   \n",
      "1     6.913e+08  2010  1.0255e+09   NaN          NaN                  NaN   \n",
      "2     6.643e+08  2010   9.603e+08   NaN          NaN                  NaN   \n",
      "3     5.357e+08  2010   8.283e+08  38.0    16-Jul-10            Inception   \n",
      "4     5.139e+08  2010   7.526e+08  27.0    21-May-10  Shrek Forever After   \n",
      "\n",
      "   production_budget  domestic_gross_y  worldwide_gross  \n",
      "0          200000000         415004880       1068879522  \n",
      "1               <NA>              <NA>             <NA>  \n",
      "2               <NA>              <NA>             <NA>  \n",
      "3          160000000         292576195        835524642  \n",
      "4          165000000         238736787        756244673  \n"
     ]
    }
   ],
   "source": [
    "# Verify cleaning\n",
    "print(merged_df.info())\n",
    "print(merged_df.describe())\n",
    "print(merged_df.head())"
   ]
  },
  {
   "cell_type": "code",
   "execution_count": 588,
   "metadata": {},
   "outputs": [
    {
     "name": "stdout",
     "output_type": "stream",
     "text": [
      "<class 'pandas.core.frame.DataFrame'>\n",
      "Int64Index: 1246 entries, 0 to 3290\n",
      "Data columns (total 12 columns):\n",
      " #   Column             Non-Null Count  Dtype  \n",
      "---  ------             --------------  -----  \n",
      " 0   title              1246 non-null   object \n",
      " 1   studio             1246 non-null   object \n",
      " 2   domestic_gross_x   1246 non-null   float64\n",
      " 3   foreign_gross      1246 non-null   object \n",
      " 4   year               1246 non-null   int64  \n",
      " 5   total_gross        1246 non-null   object \n",
      " 6   id                 1246 non-null   float64\n",
      " 7   release_date       1246 non-null   object \n",
      " 8   movie              1246 non-null   object \n",
      " 9   production_budget  1246 non-null   Int64  \n",
      " 10  domestic_gross_y   1246 non-null   Int64  \n",
      " 11  worldwide_gross    1246 non-null   Int64  \n",
      "dtypes: Int64(3), float64(2), int64(1), object(6)\n",
      "memory usage: 130.2+ KB\n"
     ]
    }
   ],
   "source": [
    "#For Analysis lets drop the missing values\n",
    "df = merged_df.dropna(subset=['movie', 'production_budget', 'domestic_gross_y', 'worldwide_gross'])\n",
    "df.info()"
   ]
  },
  {
   "cell_type": "code",
   "execution_count": 589,
   "metadata": {},
   "outputs": [
    {
     "data": {
      "text/html": [
       "<div>\n",
       "<style scoped>\n",
       "    .dataframe tbody tr th:only-of-type {\n",
       "        vertical-align: middle;\n",
       "    }\n",
       "\n",
       "    .dataframe tbody tr th {\n",
       "        vertical-align: top;\n",
       "    }\n",
       "\n",
       "    .dataframe thead th {\n",
       "        text-align: right;\n",
       "    }\n",
       "</style>\n",
       "<table border=\"1\" class=\"dataframe\">\n",
       "  <thead>\n",
       "    <tr style=\"text-align: right;\">\n",
       "      <th></th>\n",
       "      <th>title</th>\n",
       "      <th>studio</th>\n",
       "      <th>domestic_gross_x</th>\n",
       "      <th>foreign_gross</th>\n",
       "      <th>year</th>\n",
       "      <th>total_gross</th>\n",
       "      <th>id</th>\n",
       "      <th>release_date</th>\n",
       "      <th>movie</th>\n",
       "      <th>production_budget</th>\n",
       "      <th>domestic_gross_y</th>\n",
       "      <th>worldwide_gross</th>\n",
       "      <th>profit</th>\n",
       "    </tr>\n",
       "  </thead>\n",
       "  <tbody>\n",
       "    <tr>\n",
       "      <th>0</th>\n",
       "      <td>Toy Story 3</td>\n",
       "      <td>BV</td>\n",
       "      <td>415000000.0</td>\n",
       "      <td>6.52e+08</td>\n",
       "      <td>2010</td>\n",
       "      <td>1.067e+09</td>\n",
       "      <td>47.0</td>\n",
       "      <td>18-Jun-10</td>\n",
       "      <td>Toy Story 3</td>\n",
       "      <td>200000000</td>\n",
       "      <td>415004880</td>\n",
       "      <td>1068879522</td>\n",
       "      <td>868879522</td>\n",
       "    </tr>\n",
       "    <tr>\n",
       "      <th>3</th>\n",
       "      <td>Inception</td>\n",
       "      <td>WB</td>\n",
       "      <td>292600000.0</td>\n",
       "      <td>5.357e+08</td>\n",
       "      <td>2010</td>\n",
       "      <td>8.283e+08</td>\n",
       "      <td>38.0</td>\n",
       "      <td>16-Jul-10</td>\n",
       "      <td>Inception</td>\n",
       "      <td>160000000</td>\n",
       "      <td>292576195</td>\n",
       "      <td>835524642</td>\n",
       "      <td>675524642</td>\n",
       "    </tr>\n",
       "    <tr>\n",
       "      <th>4</th>\n",
       "      <td>Shrek Forever After</td>\n",
       "      <td>P/DW</td>\n",
       "      <td>238700000.0</td>\n",
       "      <td>5.139e+08</td>\n",
       "      <td>2010</td>\n",
       "      <td>7.526e+08</td>\n",
       "      <td>27.0</td>\n",
       "      <td>21-May-10</td>\n",
       "      <td>Shrek Forever After</td>\n",
       "      <td>165000000</td>\n",
       "      <td>238736787</td>\n",
       "      <td>756244673</td>\n",
       "      <td>591244673</td>\n",
       "    </tr>\n",
       "    <tr>\n",
       "      <th>5</th>\n",
       "      <td>The Twilight Saga: Eclipse</td>\n",
       "      <td>Sum.</td>\n",
       "      <td>300500000.0</td>\n",
       "      <td>3.98e+08</td>\n",
       "      <td>2010</td>\n",
       "      <td>6.985e+08</td>\n",
       "      <td>53.0</td>\n",
       "      <td>30-Jun-10</td>\n",
       "      <td>The Twilight Saga: Eclipse</td>\n",
       "      <td>68000000</td>\n",
       "      <td>300531751</td>\n",
       "      <td>706102828</td>\n",
       "      <td>638102828</td>\n",
       "    </tr>\n",
       "    <tr>\n",
       "      <th>6</th>\n",
       "      <td>Iron Man 2</td>\n",
       "      <td>Par.</td>\n",
       "      <td>312400000.0</td>\n",
       "      <td>3.115e+08</td>\n",
       "      <td>2010</td>\n",
       "      <td>6.239e+08</td>\n",
       "      <td>15.0</td>\n",
       "      <td>7-May-10</td>\n",
       "      <td>Iron Man 2</td>\n",
       "      <td>170000000</td>\n",
       "      <td>312433331</td>\n",
       "      <td>621156389</td>\n",
       "      <td>451156389</td>\n",
       "    </tr>\n",
       "  </tbody>\n",
       "</table>\n",
       "</div>"
      ],
      "text/plain": [
       "                        title studio  domestic_gross_x foreign_gross  year  \\\n",
       "0                 Toy Story 3     BV       415000000.0      6.52e+08  2010   \n",
       "3                   Inception     WB       292600000.0     5.357e+08  2010   \n",
       "4         Shrek Forever After   P/DW       238700000.0     5.139e+08  2010   \n",
       "5  The Twilight Saga: Eclipse   Sum.       300500000.0      3.98e+08  2010   \n",
       "6                  Iron Man 2   Par.       312400000.0     3.115e+08  2010   \n",
       "\n",
       "  total_gross    id release_date                       movie  \\\n",
       "0   1.067e+09  47.0    18-Jun-10                 Toy Story 3   \n",
       "3   8.283e+08  38.0    16-Jul-10                   Inception   \n",
       "4   7.526e+08  27.0    21-May-10         Shrek Forever After   \n",
       "5   6.985e+08  53.0    30-Jun-10  The Twilight Saga: Eclipse   \n",
       "6   6.239e+08  15.0     7-May-10                  Iron Man 2   \n",
       "\n",
       "   production_budget  domestic_gross_y  worldwide_gross     profit  \n",
       "0          200000000         415004880       1068879522  868879522  \n",
       "3          160000000         292576195        835524642  675524642  \n",
       "4          165000000         238736787        756244673  591244673  \n",
       "5           68000000         300531751        706102828  638102828  \n",
       "6          170000000         312433331        621156389  451156389  "
      ]
     },
     "execution_count": 589,
     "metadata": {},
     "output_type": "execute_result"
    }
   ],
   "source": [
    "# lets add the column profit\n",
    "df['profit'] = df['worldwide_gross'] - cleaned_dataset['production_budget']\n",
    "df.head()\n"
   ]
  },
  {
   "cell_type": "code",
   "execution_count": 590,
   "metadata": {},
   "outputs": [],
   "source": [
    "# check if domestic gross_x and domestic gross_y is same\n",
    "# first the dollar sign and convert to float\n",
    "df['domestic_gross_y'] = df['domestic_gross_y'].replace('[\\$,]', '', regex=True).astype(float)"
   ]
  },
  {
   "cell_type": "code",
   "execution_count": 591,
   "metadata": {},
   "outputs": [],
   "source": [
    "# Assuming domestic_gross_x is rounded to the nearest integer\n",
    "df['domestic_gross_y_rounded'] = df['domestic_gross_y'].apply(lambda x: round(x / 100000) * 100000)"
   ]
  },
  {
   "cell_type": "code",
   "execution_count": 592,
   "metadata": {},
   "outputs": [
    {
     "name": "stdout",
     "output_type": "stream",
     "text": [
      "Are the 'domestic_gross_x' and 'domestic_gross_y' columns identical after rounding? False\n"
     ]
    }
   ],
   "source": [
    "are_identical = df['domestic_gross_x'].equals(df['domestic_gross_y_rounded'])\n",
    "print(f\"Are the 'domestic_gross_x' and 'domestic_gross_y' columns identical after rounding? {are_identical}\")"
   ]
  },
  {
   "cell_type": "code",
   "execution_count": 593,
   "metadata": {},
   "outputs": [
    {
     "name": "stdout",
     "output_type": "stream",
     "text": [
      "Number of identical entries: 1019\n",
      "Number of differing entries: 227\n"
     ]
    }
   ],
   "source": [
    "# Element-wise comparison to identify differences\n",
    "comparison = df['domestic_gross_x'] == df['domestic_gross_y_rounded']\n",
    "print(f\"Number of identical entries: {comparison.sum()}\")\n",
    "print(f\"Number of differing entries: {(~comparison).sum()}\")"
   ]
  },
  {
   "cell_type": "code",
   "execution_count": 594,
   "metadata": {},
   "outputs": [
    {
     "data": {
      "text/html": [
       "<div>\n",
       "<style scoped>\n",
       "    .dataframe tbody tr th:only-of-type {\n",
       "        vertical-align: middle;\n",
       "    }\n",
       "\n",
       "    .dataframe tbody tr th {\n",
       "        vertical-align: top;\n",
       "    }\n",
       "\n",
       "    .dataframe thead th {\n",
       "        text-align: right;\n",
       "    }\n",
       "</style>\n",
       "<table border=\"1\" class=\"dataframe\">\n",
       "  <thead>\n",
       "    <tr style=\"text-align: right;\">\n",
       "      <th></th>\n",
       "      <th>title</th>\n",
       "      <th>studio</th>\n",
       "      <th>domestic_gross_x</th>\n",
       "      <th>foreign_gross</th>\n",
       "      <th>year</th>\n",
       "      <th>total_gross</th>\n",
       "      <th>id</th>\n",
       "      <th>release_date</th>\n",
       "      <th>movie</th>\n",
       "      <th>production_budget</th>\n",
       "      <th>domestic_gross_y</th>\n",
       "      <th>worldwide_gross</th>\n",
       "      <th>profit</th>\n",
       "      <th>domestic_gross_y_rounded</th>\n",
       "    </tr>\n",
       "  </thead>\n",
       "  <tbody>\n",
       "    <tr>\n",
       "      <th>0</th>\n",
       "      <td>Toy Story 3</td>\n",
       "      <td>BV</td>\n",
       "      <td>415000000.0</td>\n",
       "      <td>6.52e+08</td>\n",
       "      <td>2010</td>\n",
       "      <td>1.067e+09</td>\n",
       "      <td>47.0</td>\n",
       "      <td>18-Jun-10</td>\n",
       "      <td>Toy Story 3</td>\n",
       "      <td>200000000</td>\n",
       "      <td>415004880.0</td>\n",
       "      <td>1068879522</td>\n",
       "      <td>868879522</td>\n",
       "      <td>415000000</td>\n",
       "    </tr>\n",
       "    <tr>\n",
       "      <th>3</th>\n",
       "      <td>Inception</td>\n",
       "      <td>WB</td>\n",
       "      <td>292600000.0</td>\n",
       "      <td>5.357e+08</td>\n",
       "      <td>2010</td>\n",
       "      <td>8.283e+08</td>\n",
       "      <td>38.0</td>\n",
       "      <td>16-Jul-10</td>\n",
       "      <td>Inception</td>\n",
       "      <td>160000000</td>\n",
       "      <td>292576195.0</td>\n",
       "      <td>835524642</td>\n",
       "      <td>675524642</td>\n",
       "      <td>292600000</td>\n",
       "    </tr>\n",
       "    <tr>\n",
       "      <th>4</th>\n",
       "      <td>Shrek Forever After</td>\n",
       "      <td>P/DW</td>\n",
       "      <td>238700000.0</td>\n",
       "      <td>5.139e+08</td>\n",
       "      <td>2010</td>\n",
       "      <td>7.526e+08</td>\n",
       "      <td>27.0</td>\n",
       "      <td>21-May-10</td>\n",
       "      <td>Shrek Forever After</td>\n",
       "      <td>165000000</td>\n",
       "      <td>238736787.0</td>\n",
       "      <td>756244673</td>\n",
       "      <td>591244673</td>\n",
       "      <td>238700000</td>\n",
       "    </tr>\n",
       "    <tr>\n",
       "      <th>5</th>\n",
       "      <td>The Twilight Saga: Eclipse</td>\n",
       "      <td>Sum.</td>\n",
       "      <td>300500000.0</td>\n",
       "      <td>3.98e+08</td>\n",
       "      <td>2010</td>\n",
       "      <td>6.985e+08</td>\n",
       "      <td>53.0</td>\n",
       "      <td>30-Jun-10</td>\n",
       "      <td>The Twilight Saga: Eclipse</td>\n",
       "      <td>68000000</td>\n",
       "      <td>300531751.0</td>\n",
       "      <td>706102828</td>\n",
       "      <td>638102828</td>\n",
       "      <td>300500000</td>\n",
       "    </tr>\n",
       "    <tr>\n",
       "      <th>6</th>\n",
       "      <td>Iron Man 2</td>\n",
       "      <td>Par.</td>\n",
       "      <td>312400000.0</td>\n",
       "      <td>3.115e+08</td>\n",
       "      <td>2010</td>\n",
       "      <td>6.239e+08</td>\n",
       "      <td>15.0</td>\n",
       "      <td>7-May-10</td>\n",
       "      <td>Iron Man 2</td>\n",
       "      <td>170000000</td>\n",
       "      <td>312433331.0</td>\n",
       "      <td>621156389</td>\n",
       "      <td>451156389</td>\n",
       "      <td>312400000</td>\n",
       "    </tr>\n",
       "  </tbody>\n",
       "</table>\n",
       "</div>"
      ],
      "text/plain": [
       "                        title studio  domestic_gross_x foreign_gross  year  \\\n",
       "0                 Toy Story 3     BV       415000000.0      6.52e+08  2010   \n",
       "3                   Inception     WB       292600000.0     5.357e+08  2010   \n",
       "4         Shrek Forever After   P/DW       238700000.0     5.139e+08  2010   \n",
       "5  The Twilight Saga: Eclipse   Sum.       300500000.0      3.98e+08  2010   \n",
       "6                  Iron Man 2   Par.       312400000.0     3.115e+08  2010   \n",
       "\n",
       "  total_gross    id release_date                       movie  \\\n",
       "0   1.067e+09  47.0    18-Jun-10                 Toy Story 3   \n",
       "3   8.283e+08  38.0    16-Jul-10                   Inception   \n",
       "4   7.526e+08  27.0    21-May-10         Shrek Forever After   \n",
       "5   6.985e+08  53.0    30-Jun-10  The Twilight Saga: Eclipse   \n",
       "6   6.239e+08  15.0     7-May-10                  Iron Man 2   \n",
       "\n",
       "   production_budget  domestic_gross_y  worldwide_gross     profit  \\\n",
       "0          200000000       415004880.0       1068879522  868879522   \n",
       "3          160000000       292576195.0        835524642  675524642   \n",
       "4          165000000       238736787.0        756244673  591244673   \n",
       "5           68000000       300531751.0        706102828  638102828   \n",
       "6          170000000       312433331.0        621156389  451156389   \n",
       "\n",
       "   domestic_gross_y_rounded  \n",
       "0                 415000000  \n",
       "3                 292600000  \n",
       "4                 238700000  \n",
       "5                 300500000  \n",
       "6                 312400000  "
      ]
     },
     "execution_count": 594,
     "metadata": {},
     "output_type": "execute_result"
    }
   ],
   "source": [
    "# Lets drop the rows with different entries\n",
    "filtered_dataset_df = df[df['domestic_gross_x'] == df['domestic_gross_y_rounded']]\n",
    "\n",
    "# Print the filtered DataFrame\n",
    "#print(filtered_df)\n",
    "filtered_dataset_df.head()"
   ]
  },
  {
   "cell_type": "code",
   "execution_count": 595,
   "metadata": {},
   "outputs": [
    {
     "data": {
      "text/html": [
       "<div>\n",
       "<style scoped>\n",
       "    .dataframe tbody tr th:only-of-type {\n",
       "        vertical-align: middle;\n",
       "    }\n",
       "\n",
       "    .dataframe tbody tr th {\n",
       "        vertical-align: top;\n",
       "    }\n",
       "\n",
       "    .dataframe thead th {\n",
       "        text-align: right;\n",
       "    }\n",
       "</style>\n",
       "<table border=\"1\" class=\"dataframe\">\n",
       "  <thead>\n",
       "    <tr style=\"text-align: right;\">\n",
       "      <th></th>\n",
       "      <th>title</th>\n",
       "      <th>studio</th>\n",
       "      <th>production_budget</th>\n",
       "      <th>domestic_gross_x</th>\n",
       "      <th>foreign_gross</th>\n",
       "      <th>release_date</th>\n",
       "      <th>worldwide_gross</th>\n",
       "      <th>year</th>\n",
       "    </tr>\n",
       "  </thead>\n",
       "  <tbody>\n",
       "    <tr>\n",
       "      <th>0</th>\n",
       "      <td>Toy Story 3</td>\n",
       "      <td>BV</td>\n",
       "      <td>200000000</td>\n",
       "      <td>415000000.0</td>\n",
       "      <td>6.52e+08</td>\n",
       "      <td>18-Jun-10</td>\n",
       "      <td>1068879522</td>\n",
       "      <td>2010</td>\n",
       "    </tr>\n",
       "    <tr>\n",
       "      <th>3</th>\n",
       "      <td>Inception</td>\n",
       "      <td>WB</td>\n",
       "      <td>160000000</td>\n",
       "      <td>292600000.0</td>\n",
       "      <td>5.357e+08</td>\n",
       "      <td>16-Jul-10</td>\n",
       "      <td>835524642</td>\n",
       "      <td>2010</td>\n",
       "    </tr>\n",
       "    <tr>\n",
       "      <th>4</th>\n",
       "      <td>Shrek Forever After</td>\n",
       "      <td>P/DW</td>\n",
       "      <td>165000000</td>\n",
       "      <td>238700000.0</td>\n",
       "      <td>5.139e+08</td>\n",
       "      <td>21-May-10</td>\n",
       "      <td>756244673</td>\n",
       "      <td>2010</td>\n",
       "    </tr>\n",
       "    <tr>\n",
       "      <th>5</th>\n",
       "      <td>The Twilight Saga: Eclipse</td>\n",
       "      <td>Sum.</td>\n",
       "      <td>68000000</td>\n",
       "      <td>300500000.0</td>\n",
       "      <td>3.98e+08</td>\n",
       "      <td>30-Jun-10</td>\n",
       "      <td>706102828</td>\n",
       "      <td>2010</td>\n",
       "    </tr>\n",
       "    <tr>\n",
       "      <th>6</th>\n",
       "      <td>Iron Man 2</td>\n",
       "      <td>Par.</td>\n",
       "      <td>170000000</td>\n",
       "      <td>312400000.0</td>\n",
       "      <td>3.115e+08</td>\n",
       "      <td>7-May-10</td>\n",
       "      <td>621156389</td>\n",
       "      <td>2010</td>\n",
       "    </tr>\n",
       "  </tbody>\n",
       "</table>\n",
       "</div>"
      ],
      "text/plain": [
       "                        title studio  production_budget  domestic_gross_x  \\\n",
       "0                 Toy Story 3     BV          200000000       415000000.0   \n",
       "3                   Inception     WB          160000000       292600000.0   \n",
       "4         Shrek Forever After   P/DW          165000000       238700000.0   \n",
       "5  The Twilight Saga: Eclipse   Sum.           68000000       300500000.0   \n",
       "6                  Iron Man 2   Par.          170000000       312400000.0   \n",
       "\n",
       "  foreign_gross release_date  worldwide_gross  year  \n",
       "0      6.52e+08    18-Jun-10       1068879522  2010  \n",
       "3     5.357e+08    16-Jul-10        835524642  2010  \n",
       "4     5.139e+08    21-May-10        756244673  2010  \n",
       "5      3.98e+08    30-Jun-10        706102828  2010  \n",
       "6     3.115e+08     7-May-10        621156389  2010  "
      ]
     },
     "execution_count": 595,
     "metadata": {},
     "output_type": "execute_result"
    }
   ],
   "source": [
    "# Lets pick unique columns that we will work with\n",
    "Cleaned_dataset_df = filtered_dataset_df.loc[:, ['title', 'studio', 'production_budget','domestic_gross_x','foreign_gross','release_date','worldwide_gross','year']] \n",
    "Cleaned_dataset_df.head()"
   ]
  },
  {
   "cell_type": "code",
   "execution_count": 596,
   "metadata": {},
   "outputs": [
    {
     "name": "stdout",
     "output_type": "stream",
     "text": [
      "<class 'pandas.core.frame.DataFrame'>\n",
      "Int64Index: 1019 entries, 0 to 3290\n",
      "Data columns (total 8 columns):\n",
      " #   Column             Non-Null Count  Dtype  \n",
      "---  ------             --------------  -----  \n",
      " 0   title              1019 non-null   object \n",
      " 1   studio             1019 non-null   object \n",
      " 2   production_budget  1019 non-null   Int64  \n",
      " 3   domestic_gross_x   1019 non-null   float64\n",
      " 4   foreign_gross      1019 non-null   object \n",
      " 5   release_date       1019 non-null   object \n",
      " 6   worldwide_gross    1019 non-null   Int64  \n",
      " 7   year               1019 non-null   int64  \n",
      "dtypes: Int64(2), float64(1), int64(1), object(4)\n",
      "memory usage: 73.6+ KB\n"
     ]
    }
   ],
   "source": [
    "Cleaned_dataset_df.info()"
   ]
  },
  {
   "cell_type": "code",
   "execution_count": 597,
   "metadata": {},
   "outputs": [],
   "source": [
    "# Remove non-numeric characters (e.g., dollar signs) from the production_budget, domestic_gross,and world wide gross  columns\n",
    "Cleaned_dataset_df['production_budget'] = Cleaned_dataset_df['production_budget'].replace('[\\$,]', '', regex=True)\n",
    "#Cleaned_dataset_df['domestic_gross_x'] =Cleaned_dataset_df['domestic_gross_x'].replace('[\\$,]', '', regex=True)\n",
    "Cleaned_dataset_df['worldwide_gross'] = Cleaned_dataset_df['worldwide_gross'].replace('[\\$,]', '', regex=True)\n",
    "Cleaned_dataset_df['foreign_gross'] = Cleaned_dataset_df['foreign_gross'].replace('[\\$,]', '', regex=True)\n",
    "Cleaned_dataset_df['total_gross'] = Cleaned_dataset_df['worldwide_gross'].replace('[\\$,]', '', regex=True)\n",
    "\n",
    "Cleaned_dataset_df['profit'] = Cleaned_dataset_df['worldwide_gross'].replace('[\\$,]', '', regex=True)"
   ]
  },
  {
   "cell_type": "code",
   "execution_count": 598,
   "metadata": {},
   "outputs": [],
   "source": [
    "# Convert the production_budget, domestic_gross,and world wide gross  columns to integers\n",
    "Cleaned_dataset_df['production_budget'] = pd.to_numeric(Cleaned_dataset_df['production_budget'], errors='coerce').astype('Int64')\n",
    "#Cleaned_dataset_df['domestic_gross_x'] = pd.to_numeric(Cleaned_dataset_df['domestic_gross_x'], errors='coerce').astype('Int64')\n",
    "Cleaned_dataset_df['worldwide_gross'] = pd.to_numeric(Cleaned_dataset_df['worldwide_gross'], errors='coerce').astype('Int64')\n",
    "Cleaned_dataset_df['total_gross'] = pd.to_numeric(Cleaned_dataset_df['total_gross'], errors='coerce').astype('Int64')\n",
    "Cleaned_dataset_df['profit'] = pd.to_numeric(Cleaned_dataset_df['profit'], errors='coerce').astype('Int64')\n",
    "Cleaned_dataset_df['foreign_gross'] = pd.to_numeric(Cleaned_dataset_df['foreign_gross'], errors='coerce').astype('Int64')"
   ]
  },
  {
   "cell_type": "code",
   "execution_count": 599,
   "metadata": {},
   "outputs": [
    {
     "name": "stdout",
     "output_type": "stream",
     "text": [
      "<class 'pandas.core.frame.DataFrame'>\n",
      "Int64Index: 1019 entries, 0 to 3290\n",
      "Data columns (total 10 columns):\n",
      " #   Column             Non-Null Count  Dtype  \n",
      "---  ------             --------------  -----  \n",
      " 0   title              1019 non-null   object \n",
      " 1   studio             1019 non-null   object \n",
      " 2   production_budget  1019 non-null   Int64  \n",
      " 3   domestic_gross_x   1019 non-null   float64\n",
      " 4   foreign_gross      1019 non-null   Int64  \n",
      " 5   release_date       1019 non-null   object \n",
      " 6   worldwide_gross    1019 non-null   Int64  \n",
      " 7   year               1019 non-null   int64  \n",
      " 8   total_gross        1019 non-null   Int64  \n",
      " 9   profit             1019 non-null   Int64  \n",
      "dtypes: Int64(5), float64(1), int64(1), object(3)\n",
      "memory usage: 92.5+ KB\n"
     ]
    }
   ],
   "source": [
    "Cleaned_dataset_df.info()"
   ]
  },
  {
   "cell_type": "code",
   "execution_count": 600,
   "metadata": {},
   "outputs": [
    {
     "data": {
      "text/html": [
       "<div>\n",
       "<style scoped>\n",
       "    .dataframe tbody tr th:only-of-type {\n",
       "        vertical-align: middle;\n",
       "    }\n",
       "\n",
       "    .dataframe tbody tr th {\n",
       "        vertical-align: top;\n",
       "    }\n",
       "\n",
       "    .dataframe thead th {\n",
       "        text-align: right;\n",
       "    }\n",
       "</style>\n",
       "<table border=\"1\" class=\"dataframe\">\n",
       "  <thead>\n",
       "    <tr style=\"text-align: right;\">\n",
       "      <th></th>\n",
       "      <th>production_budget</th>\n",
       "      <th>domestic_gross_x</th>\n",
       "      <th>foreign_gross</th>\n",
       "      <th>worldwide_gross</th>\n",
       "      <th>year</th>\n",
       "      <th>total_gross</th>\n",
       "      <th>profit</th>\n",
       "    </tr>\n",
       "  </thead>\n",
       "  <tbody>\n",
       "    <tr>\n",
       "      <th>count</th>\n",
       "      <td>1.019000e+03</td>\n",
       "      <td>1.019000e+03</td>\n",
       "      <td>1.019000e+03</td>\n",
       "      <td>1.019000e+03</td>\n",
       "      <td>1019.000000</td>\n",
       "      <td>1.019000e+03</td>\n",
       "      <td>1.019000e+03</td>\n",
       "    </tr>\n",
       "    <tr>\n",
       "      <th>mean</th>\n",
       "      <td>5.048434e+07</td>\n",
       "      <td>6.682345e+07</td>\n",
       "      <td>9.504719e+07</td>\n",
       "      <td>1.655493e+08</td>\n",
       "      <td>2013.676153</td>\n",
       "      <td>1.655493e+08</td>\n",
       "      <td>1.655493e+08</td>\n",
       "    </tr>\n",
       "    <tr>\n",
       "      <th>std</th>\n",
       "      <td>5.704012e+07</td>\n",
       "      <td>8.832380e+07</td>\n",
       "      <td>1.530879e+08</td>\n",
       "      <td>2.437319e+08</td>\n",
       "      <td>2.551461</td>\n",
       "      <td>2.437319e+08</td>\n",
       "      <td>2.437319e+08</td>\n",
       "    </tr>\n",
       "    <tr>\n",
       "      <th>min</th>\n",
       "      <td>1.000000e+05</td>\n",
       "      <td>0.000000e+00</td>\n",
       "      <td>0.000000e+00</td>\n",
       "      <td>6.809140e+05</td>\n",
       "      <td>2010.000000</td>\n",
       "      <td>6.809140e+05</td>\n",
       "      <td>6.809140e+05</td>\n",
       "    </tr>\n",
       "    <tr>\n",
       "      <th>25%</th>\n",
       "      <td>1.300000e+07</td>\n",
       "      <td>1.440000e+07</td>\n",
       "      <td>7.250000e+06</td>\n",
       "      <td>2.758687e+07</td>\n",
       "      <td>2011.000000</td>\n",
       "      <td>2.758687e+07</td>\n",
       "      <td>2.758687e+07</td>\n",
       "    </tr>\n",
       "    <tr>\n",
       "      <th>50%</th>\n",
       "      <td>3.000000e+07</td>\n",
       "      <td>3.740000e+07</td>\n",
       "      <td>3.320000e+07</td>\n",
       "      <td>7.457529e+07</td>\n",
       "      <td>2014.000000</td>\n",
       "      <td>7.457529e+07</td>\n",
       "      <td>7.457529e+07</td>\n",
       "    </tr>\n",
       "    <tr>\n",
       "      <th>75%</th>\n",
       "      <td>6.100000e+07</td>\n",
       "      <td>8.180000e+07</td>\n",
       "      <td>1.029000e+08</td>\n",
       "      <td>1.867988e+08</td>\n",
       "      <td>2016.000000</td>\n",
       "      <td>1.867988e+08</td>\n",
       "      <td>1.867988e+08</td>\n",
       "    </tr>\n",
       "    <tr>\n",
       "      <th>max</th>\n",
       "      <td>4.106000e+08</td>\n",
       "      <td>7.001000e+08</td>\n",
       "      <td>9.464000e+08</td>\n",
       "      <td>2.048134e+09</td>\n",
       "      <td>2018.000000</td>\n",
       "      <td>2.048134e+09</td>\n",
       "      <td>2.048134e+09</td>\n",
       "    </tr>\n",
       "  </tbody>\n",
       "</table>\n",
       "</div>"
      ],
      "text/plain": [
       "       production_budget  domestic_gross_x  foreign_gross  worldwide_gross  \\\n",
       "count       1.019000e+03      1.019000e+03   1.019000e+03     1.019000e+03   \n",
       "mean        5.048434e+07      6.682345e+07   9.504719e+07     1.655493e+08   \n",
       "std         5.704012e+07      8.832380e+07   1.530879e+08     2.437319e+08   \n",
       "min         1.000000e+05      0.000000e+00   0.000000e+00     6.809140e+05   \n",
       "25%         1.300000e+07      1.440000e+07   7.250000e+06     2.758687e+07   \n",
       "50%         3.000000e+07      3.740000e+07   3.320000e+07     7.457529e+07   \n",
       "75%         6.100000e+07      8.180000e+07   1.029000e+08     1.867988e+08   \n",
       "max         4.106000e+08      7.001000e+08   9.464000e+08     2.048134e+09   \n",
       "\n",
       "              year   total_gross        profit  \n",
       "count  1019.000000  1.019000e+03  1.019000e+03  \n",
       "mean   2013.676153  1.655493e+08  1.655493e+08  \n",
       "std       2.551461  2.437319e+08  2.437319e+08  \n",
       "min    2010.000000  6.809140e+05  6.809140e+05  \n",
       "25%    2011.000000  2.758687e+07  2.758687e+07  \n",
       "50%    2014.000000  7.457529e+07  7.457529e+07  \n",
       "75%    2016.000000  1.867988e+08  1.867988e+08  \n",
       "max    2018.000000  2.048134e+09  2.048134e+09  "
      ]
     },
     "execution_count": 600,
     "metadata": {},
     "output_type": "execute_result"
    }
   ],
   "source": [
    "Cleaned_dataset_df.describe()"
   ]
  },
  {
   "cell_type": "code",
   "execution_count": 601,
   "metadata": {},
   "outputs": [
    {
     "name": "stdout",
     "output_type": "stream",
     "text": [
      "Top 10 Films by Total Gross:\n",
      "                               title studio  worldwide_gross\n",
      "3088          Avengers: Infinity War     BV       2048134200\n",
      "1879                  Jurassic World   Uni.       1648854864\n",
      "1880                       Furious 7   Uni.       1518722794\n",
      "1881         Avengers: Age of Ultron     BV       1403013963\n",
      "3089                   Black Panther     BV       1348258224\n",
      "3090  Jurassic World: Fallen Kingdom   Uni.       1305772799\n",
      "1130                          Frozen     BV       1272469910\n",
      "3091                   Incredibles 2     BV       1242520711\n",
      "1131                      Iron Man 3     BV       1215392272\n",
      "1882                         Minions   Uni.       1160336173\n"
     ]
    }
   ],
   "source": [
    "# Display top 10 films by total gross\n",
    "top_films = Cleaned_dataset_df.sort_values(by='worldwide_gross', ascending=False).head(10)\n",
    "print(\"Top 10 Films by Total Gross:\")\n",
    "print(top_films[['title', 'studio', 'worldwide_gross']])"
   ]
  },
  {
   "cell_type": "code",
   "execution_count": 602,
   "metadata": {},
   "outputs": [
    {
     "name": "stdout",
     "output_type": "stream",
     "text": [
      "\n",
      "Average Domestic Gross: 66823454.36702649\n",
      "Average Foreign Gross: 95047192.92737979\n"
     ]
    }
   ],
   "source": [
    "# Calculate average gross for domestic and foreign markets\n",
    "avg_domestic_gross = Cleaned_dataset_df['domestic_gross_x'].mean()\n",
    "avg_foreign_gross = Cleaned_dataset_df['foreign_gross'].mean()\n",
    "\n",
    "print(\"\\nAverage Domestic Gross:\", avg_domestic_gross)\n",
    "print(\"Average Foreign Gross:\", avg_foreign_gross)"
   ]
  },
  {
   "cell_type": "code",
   "execution_count": 603,
   "metadata": {},
   "outputs": [
    {
     "name": "stdout",
     "output_type": "stream",
     "text": [
      "\n",
      "Studio with Highest Total Gross: studio\n",
      "BV    32532398136\n",
      "Name: total_gross, dtype: Int64\n"
     ]
    }
   ],
   "source": [
    "# Determine which studio has the highest total gross\n",
    "top_studio_gross =Cleaned_dataset_df.groupby('studio')['total_gross'].sum().nlargest(1)\n",
    "print(\"\\nStudio with Highest Total Gross:\", top_studio_gross )"
   ]
  },
  {
   "cell_type": "code",
   "execution_count": 604,
   "metadata": {},
   "outputs": [
    {
     "name": "stdout",
     "output_type": "stream",
     "text": [
      "\n",
      "Yearly Average Gross:\n",
      "      domestic_gross_x  foreign_gross\n",
      "year                                 \n",
      "2010      5.628370e+07   7.054517e+07\n",
      "2011      5.661791e+07   8.129347e+07\n",
      "2012      6.649310e+07   9.563463e+07\n",
      "2013      7.041475e+07   1.014291e+08\n",
      "2014      6.794078e+07   1.095157e+08\n",
      "2015      6.890348e+07   8.949475e+07\n",
      "2016      6.831429e+07   9.672652e+07\n",
      "2017      7.204138e+07   1.207773e+08\n",
      "2018      8.278864e+07   1.065695e+08\n"
     ]
    }
   ],
   "source": [
    "# trend over years\n",
    "yearly_average_gross = Cleaned_dataset_df.groupby('year')[['domestic_gross_x', 'foreign_gross']].mean()\n",
    "\n",
    "print(\"\\nYearly Average Gross:\")\n",
    "print(yearly_average_gross)"
   ]
  },
  {
   "cell_type": "code",
   "execution_count": 605,
   "metadata": {},
   "outputs": [
    {
     "name": "stdout",
     "output_type": "stream",
     "text": [
      "\n",
      "Yearly Average Gross:\n",
      "      domestic_gross_x  foreign_gross  production_budget\n",
      "year                                                    \n",
      "2010      5.628370e+07   7.054517e+07       4.353969e+07\n",
      "2011      5.661791e+07   8.129347e+07       4.987966e+07\n",
      "2012      6.649310e+07   9.563463e+07       5.011560e+07\n",
      "2013      7.041475e+07   1.014291e+08       5.459221e+07\n",
      "2014      6.794078e+07   1.095157e+08       5.100049e+07\n",
      "2015      6.890348e+07   8.949475e+07       4.947652e+07\n",
      "2016      6.831429e+07   9.672652e+07       5.042521e+07\n",
      "2017      7.204138e+07   1.207773e+08       5.415057e+07\n",
      "2018      8.278864e+07   1.065695e+08       5.401818e+07\n"
     ]
    }
   ],
   "source": [
    "# trend over years\n",
    "yearly_average_gross = Cleaned_dataset_df.groupby('year')[['domestic_gross_x', 'foreign_gross','production_budget']].mean()\n",
    "\n",
    "print(\"\\nYearly Average Gross:\")\n",
    "print(yearly_average_gross)"
   ]
  },
  {
   "cell_type": "code",
   "execution_count": 606,
   "metadata": {},
   "outputs": [
    {
     "name": "stdout",
     "output_type": "stream",
     "text": [
      "                               title studio  production_budget  \\\n",
      "3088          Avengers: Infinity War     BV          300000000   \n",
      "1879                  Jurassic World   Uni.          215000000   \n",
      "1880                       Furious 7   Uni.          190000000   \n",
      "1881         Avengers: Age of Ultron     BV          330600000   \n",
      "3089                   Black Panther     BV          200000000   \n",
      "3090  Jurassic World: Fallen Kingdom   Uni.          170000000   \n",
      "1130                          Frozen     BV          150000000   \n",
      "3091                   Incredibles 2     BV          200000000   \n",
      "1131                      Iron Man 3     BV          200000000   \n",
      "1882                         Minions   Uni.           74000000   \n",
      "\n",
      "      domestic_gross_x  foreign_gross release_date  worldwide_gross  year  \\\n",
      "3088       678800000.0              0    27-Apr-18       2048134200  2018   \n",
      "1879       652300000.0              0    12-Jun-15       1648854864  2015   \n",
      "1880       353000000.0              0     3-Apr-15       1518722794  2015   \n",
      "1881       459000000.0      946400000     1-May-15       1403013963  2015   \n",
      "3089       700100000.0      646900000    16-Feb-18       1348258224  2018   \n",
      "3090       417700000.0      891800000    22-Jun-18       1305772799  2018   \n",
      "1130       400700000.0      875700000    22-Nov-13       1272469910  2013   \n",
      "3091       608600000.0      634200000    15-Jun-18       1242520711  2018   \n",
      "1131       409000000.0      805800000     3-May-13       1215392272  2013   \n",
      "1882       336000000.0      823400000    10-Jul-15       1160336173  2015   \n",
      "\n",
      "      total_gross      profit  \n",
      "3088   2048134200  2048134200  \n",
      "1879   1648854864  1648854864  \n",
      "1880   1518722794  1518722794  \n",
      "1881   1403013963  1403013963  \n",
      "3089   1348258224  1348258224  \n",
      "3090   1305772799  1305772799  \n",
      "1130   1272469910  1272469910  \n",
      "3091   1242520711  1242520711  \n",
      "1131   1215392272  1215392272  \n",
      "1882   1160336173  1160336173  \n"
     ]
    }
   ],
   "source": [
    "#Top-Grossing Movies Analysis\n",
    "# Identify top 10 highest-grossing movies\n",
    "top_grossing = Cleaned_dataset_df.nlargest(10, 'worldwide_gross')\n",
    "print(top_grossing)"
   ]
  },
  {
   "cell_type": "markdown",
   "metadata": {},
   "source": [
    "# Data Vizualization"
   ]
  },
  {
   "cell_type": "markdown",
   "metadata": {},
   "source": [
    "### Trend Over years"
   ]
  },
  {
   "cell_type": "code",
   "execution_count": 607,
   "metadata": {},
   "outputs": [
    {
     "data": {
      "image/png": "[encoded data removed]",
      "text/plain": [
       "<Figure size 720x432 with 1 Axes>"
      ]
     },
     "metadata": {
      "needs_background": "light"
     },
     "output_type": "display_data"
    }
   ],
   "source": [
    "# Line plot of yearly average gross\n",
    "plt.figure(figsize=(10, 6))\n",
    "plt.plot(yearly_average_gross.index, yearly_average_gross['domestic_gross_x'], label='Domestic Gross')\n",
    "plt.plot(yearly_average_gross.index, yearly_average_gross['foreign_gross'], label='Foreign Gross')\n",
    "plt.plot(yearly_average_gross.index, yearly_average_gross['production_budget'], label='Production_budget')\n",
    "plt.xlabel('Year')\n",
    "plt.ylabel('Average Gross')\n",
    "plt.title('Yearly Average Gross')\n",
    "plt.legend()\n",
    "plt.grid(True)\n",
    "plt.show()"
   ]
  },
  {
   "cell_type": "markdown",
   "metadata": {},
   "source": [
    "###  Bar plot of top studios by total gross"
   ]
  },
  {
   "cell_type": "code",
   "execution_count": 608,
   "metadata": {},
   "outputs": [
    {
     "data": {
      "image/png": "[encoded data removed]",
      "text/plain": [
       "<Figure size 720x432 with 1 Axes>"
      ]
     },
     "metadata": {
      "needs_background": "light"
     },
     "output_type": "display_data"
    }
   ],
   "source": [
    "# Bar plot of top studios by total gross\n",
    "top_studio_gross =Cleaned_dataset_df.groupby('studio')['total_gross'].sum().nlargest(10)\n",
    "plt.figure(figsize=(10, 6))\n",
    "top_studio_gross.plot(kind='bar')\n",
    "plt.xlabel('Studio')\n",
    "plt.ylabel('Total Gross')\n",
    "plt.title('Top Studios by Total Gross')\n",
    "plt.xticks(rotation=45, ha='right')\n",
    "plt.grid(axis='y')\n",
    "plt.show()"
   ]
  },
  {
   "cell_type": "markdown",
   "metadata": {},
   "source": [
    "### Scatter plot of domestic vs. foreign gross"
   ]
  },
  {
   "cell_type": "code",
   "execution_count": 609,
   "metadata": {},
   "outputs": [
    {
     "data": {
      "image/png": "[encoded data removed]",
      "text/plain": [
       "<Figure size 720x432 with 1 Axes>"
      ]
     },
     "metadata": {
      "needs_background": "light"
     },
     "output_type": "display_data"
    },
    {
     "name": "stdout",
     "output_type": "stream",
     "text": [
      "                  domestic_gross_x  foreign_gross\n",
      "domestic_gross_x          1.000000       0.802492\n",
      "foreign_gross             0.802492       1.000000\n"
     ]
    }
   ],
   "source": [
    "# Scatter plot of domestic vs. foreign gross\n",
    "plt.figure(figsize=(10, 6))\n",
    "plt.scatter(Cleaned_dataset_df['domestic_gross_x'], Cleaned_dataset_df['foreign_gross'])\n",
    "plt.xlabel('Domestic Gross')\n",
    "plt.ylabel('Foreign Gross')\n",
    "plt.title('Scatter Plot of Domestic vs. Foreign Gross')\n",
    "plt.grid(True)\n",
    "plt.show()\n",
    "\n",
    "# Calculate correlation\n",
    "correlation = Cleaned_dataset_df[['domestic_gross_x', 'foreign_gross']].corr()\n",
    "print(correlation)"
   ]
  },
  {
   "cell_type": "markdown",
   "metadata": {},
   "source": [
    "Release date Analysis"
   ]
  },
  {
   "cell_type": "code",
   "execution_count": 610,
   "metadata": {},
   "outputs": [
    {
     "name": "stdout",
     "output_type": "stream",
     "text": [
      "release_month\n",
      "1     8.175050e+07\n",
      "2     1.414941e+08\n",
      "3     1.390370e+08\n",
      "4     1.197039e+08\n",
      "5     2.734385e+08\n",
      "6     2.653285e+08\n",
      "7     2.449594e+08\n",
      "8     1.121524e+08\n",
      "9     8.997296e+07\n",
      "10    1.039462e+08\n",
      "11    2.214426e+08\n",
      "12    1.888987e+08\n",
      "Name: worldwide_gross, dtype: float64\n"
     ]
    },
    {
     "data": {
      "image/png": "[encoded data removed]",
      "text/plain": [
       "<Figure size 720x360 with 1 Axes>"
      ]
     },
     "metadata": {
      "needs_background": "light"
     },
     "output_type": "display_data"
    }
   ],
   "source": [
    "# Convert releasedate to datetime\n",
    "Cleaned_dataset_df['release_date'] = pd.to_datetime(Cleaned_dataset_df['release_date'])# Extract month and year from release date\n",
    "\n",
    "Cleaned_dataset_df['release_month'] = Cleaned_dataset_df['release_date'].dt.month\n",
    "Cleaned_dataset_df['release_year'] = Cleaned_dataset_df['release_date'].dt.year\n",
    "\n",
    "# Average worldwide gross by month\n",
    "month_stats = Cleaned_dataset_df.groupby('release_month')['worldwide_gross'].mean()\n",
    "print(month_stats)\n",
    "\n",
    "\n",
    "#creating a dictionary to map month numbers to month names\n",
    "month_dict = {\n",
    "    1: 'Jan', 2: 'Feb', 3: 'Mar', 4: 'Apr', 5: 'May', 6: 'Jun',\n",
    "    7: 'Jul', 8: 'Aug', 9: 'Sep', 10: 'Oct', 11: 'Nov', 12: 'Dec'\n",
    "}\n",
    "# Rename the index using the dictionary\n",
    "month_stats.index = month_stats.index.map(month_dict)\n",
    "\n",
    "# Line plot for average worldwide gross by month\n",
    "\n",
    "plt.figure(figsize=(10, 5))\n",
    "sns.lineplot(x=month_stats.index, y=month_stats.values)\n",
    "plt.title('Average Worldwide Gross by Month')\n",
    "plt.ylabel('Average Worldwide Gross')\n",
    "plt.xlabel('Month')\n",
    "plt.show()\n",
    "\n",
    "\n"
   ]
  },
  {
   "cell_type": "markdown",
   "metadata": {},
   "source": [
    "### Budget vs. Revenue Analysis"
   ]
  },
  {
   "cell_type": "code",
   "execution_count": 611,
   "metadata": {},
   "outputs": [
    {
     "data": {
      "image/png": "[encoded data removed]",
      "text/plain": [
       "<Figure size 720x432 with 1 Axes>"
      ]
     },
     "metadata": {
      "needs_background": "light"
     },
     "output_type": "display_data"
    },
    {
     "name": "stdout",
     "output_type": "stream",
     "text": [
      "                   production_budget  worldwide_gross\n",
      "production_budget            1.00000          0.78096\n",
      "worldwide_gross              0.78096          1.00000\n"
     ]
    }
   ],
   "source": [
    "##Budget vs. Revenue Analysis\n",
    "# Scatter plot for budget vs worldwide gross\n",
    "plt.figure(figsize=(10, 6))\n",
    "sns.scatterplot(x=Cleaned_dataset_df['production_budget'], y=Cleaned_dataset_df['worldwide_gross'])\n",
    "plt.title('Production Budget vs Worldwide Gross')\n",
    "plt.xlabel('Production Budget')\n",
    "plt.ylabel('Worldwide Gross')\n",
    "plt.show()\n",
    "\n",
    "# Calculate correlation\n",
    "correlation = Cleaned_dataset_df[['production_budget', 'worldwide_gross']].corr()\n",
    "print(correlation)"
   ]
  },
  {
   "cell_type": "markdown",
   "metadata": {},
   "source": [
    "### Budget vs. Profit Analysis "
   ]
  },
  {
   "cell_type": "code",
   "execution_count": 612,
   "metadata": {},
   "outputs": [
    {
     "data": {
      "image/png": "[encoded data removed]",
      "text/plain": [
       "<Figure size 720x432 with 1 Axes>"
      ]
     },
     "metadata": {
      "needs_background": "light"
     },
     "output_type": "display_data"
    },
    {
     "name": "stdout",
     "output_type": "stream",
     "text": [
      "                   production_budget   profit\n",
      "production_budget            1.00000  0.78096\n",
      "profit                       0.78096  1.00000\n"
     ]
    }
   ],
   "source": [
    "\n",
    "##Budget vs. Revenue Analysis\n",
    "# Scatter plot for budget vs worldwide gross\n",
    "plt.figure(figsize=(10, 6))\n",
    "sns.scatterplot(x=Cleaned_dataset_df['production_budget'], y=Cleaned_dataset_df['profit'])\n",
    "plt.title('Production Budget vs Profit')\n",
    "plt.xlabel('Production Budget')\n",
    "plt.ylabel('Profit')\n",
    "plt.show()\n",
    "\n",
    "# Calculate correlation\n",
    "correlation = Cleaned_dataset_df[['production_budget', 'profit']].corr()\n",
    "print(correlation)"
   ]
  },
  {
   "cell_type": "markdown",
   "metadata": {},
   "source": [
    "## Recommendation\n",
    "\n",
    "<b>Partnership Opportunities</b>\n",
    "\n",
    "* Collaborate with BV Studio As BV studio is the leading studio with the highest grossing films, they could be a valuable partner. Collaborating with or hiring talent from this studio can provide invaluable industry insights and significantly boost credibility.\n",
    "\n",
    "*  Leverage BV studio's industry experience to understand best practices in film production, marketing strategies, and audience engagement.\n",
    "\n",
    " <b>Market Adaptation</b>\n",
    " \n",
    "Foreign markets are showing more revenue potential,  therefore microsoft should consider producing more movies geared towards the  foreign market. They should  invest in multilingual marketing and subtitles/dubbing to maximize reach.\n",
    "\n",
    "\n",
    "<b> Strategic Release Dates </b>\n",
    "\n",
    "* Schedule film releases in months that show higher average worldwide gross. For instance, plan major releases in April, May, October, and November to take advantage of these peak seasons.\n",
    "\n",
    "* Focus on releasing major films during these high-grossing periods to capitalize on increased audience availability and maximize box office returns.\n",
    "\n",
    "<b> Budget Optimization</b>\n",
    "\n",
    " Given the positive correlation between production budget and profit, allocate sufficient budget to production to ensure high-quality outputs. However, balance the budget to avoid excessive spending that doesn't proportionately increase gross.\n",
    "\n",
    "<b>  Global Market Strategy </b>\n",
    "\n",
    "Since there is a positive correlation between domestic and foreign gross, create a global marketing strategy that targets both domestic and international audiences. This could involve international premieres, global advertising campaigns, and engaging with global fan communities.\n",
    "\n",
    "\n"
   ]
  }
 ],
 "metadata": {
  "kernelspec": {
   "display_name": "Python 3",
   "language": "python",
   "name": "python3"
  },
  "language_info": {
   "codemirror_mode": {
    "name": "ipython",
    "version": 3
   },
   "file_extension": ".py",
   "mimetype": "text/x-python",
   "name": "python",
   "nbconvert_exporter": "python",
   "pygments_lexer": "ipython3",
   "version": "3.8.5"
  }
 },
 "nbformat": 4,
 "nbformat_minor": 2
}
